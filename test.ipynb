{
 "cells": [
  {
   "cell_type": "code",
   "execution_count": 1,
   "metadata": {},
   "outputs": [],
   "source": [
    "# dfs"
   ]
  },
  {
   "cell_type": "code",
   "execution_count": 2,
   "metadata": {},
   "outputs": [
    {
     "name": "stdout",
     "output_type": "stream",
     "text": [
      "방문순서\n",
      "1 2 4 6 3 5 7 "
     ]
    }
   ],
   "source": [
    "def dfs(graph, v, visited):\n",
    "    \n",
    "    #v는 시작위치\n",
    "    visited[v] = True\n",
    "    print(v , end = ' ')\n",
    "    \n",
    "    #현재 노드와 연결된 노드를 재귀적으로 호출\n",
    "    for i in graph[v]:\n",
    "        if not visited[i]:\n",
    "            dfs(graph, i, visited)\n",
    "    \n",
    "graph = [\n",
    "    [],\n",
    "    [2,3,7],\n",
    "    [1,4,6],\n",
    "    [1,5,7],\n",
    "    [2,6],\n",
    "    [3,7],\n",
    "    [2,4],\n",
    "    [1,3]\n",
    "]\n",
    "\n",
    "#각 노드가 방문한 정보를 리스트 자료형으로 표현\n",
    "visited = [False] * 9\n",
    "\n",
    "print(\"방문순서\")\n",
    "dfs(graph, 1, visited)"
   ]
  },
  {
   "attachments": {},
   "cell_type": "markdown",
   "metadata": {},
   "source": [
    "문제 설명\n",
    "\n",
    "n개의 음이 아닌 정수들이 있습니다. 이 정수들을 순서를 바꾸지 않고 적절히 더하거나 빼서 타겟 넘버를 만들려고 합니다. 예를 들어 [1, 1, 1, 1, 1]로 숫자 3을 만들려면 다음 다섯 방법을 쓸 수 있습니다.\n",
    "\n",
    "-1+1+1+1+1 = 3\n",
    "+1-1+1+1+1 = 3\n",
    "+1+1-1+1+1 = 3\n",
    "+1+1+1-1+1 = 3\n",
    "+1+1+1+1-1 = 3\n",
    "\n",
    "사용할 수 있는 숫자가 담긴 배열 numbers, 타겟 넘버 target이 매개변수로 주어질 때 숫자를 적절히 더하고 빼서 타겟 넘버를 만드는 방법의 수를 return 하도록 solution 함수를 작성해주세요.\n",
    "\n",
    "제한사항\n",
    "주어지는 숫자의 개수는 2개 이상 20개 이하입니다.\n",
    "각 숫자는 1 이상 50 이하인 자연수입니다.\n",
    "타겟 넘버는 1 이상 1000 이하인 자연수입니다.\n",
    "\n",
    "입출력 예\n",
    "numbers\ttarget\treturn\n",
    "[1, 1, 1, 1, 1]\t3\t5\n",
    "[4, 1, 2, 1]\t4\t2\n",
    "입출력 예 설명\n",
    "입출력 예 #1\n",
    "문제 예시와 같습니다.\n",
    "입출력 예 #2\n",
    "+4+1-2+1 = 4\n",
    "+4-1+2-1 = 4\n",
    "총 2가지 방법이 있으므로, 2를 return 합니다."
   ]
  },
  {
   "attachments": {},
   "cell_type": "markdown",
   "metadata": {},
   "source": [
    "우선 +과 -를 열심히 넣으면 어떻게든은 구할수 있겠지?"
   ]
  },
  {
   "cell_type": "code",
   "execution_count": 1,
   "metadata": {},
   "outputs": [],
   "source": [
    "numbers = [1, 1, 1, 1, 1]\n",
    "target = 3"
   ]
  },
  {
   "cell_type": "code",
   "execution_count": null,
   "metadata": {},
   "outputs": [],
   "source": []
  },
  {
   "cell_type": "code",
   "execution_count": null,
   "metadata": {},
   "outputs": [],
   "source": [
    "def solution(numbers, target):\n",
    "    answer = 0\n",
    "    \n",
    "    # # + -를 조합해서 target이 나오게끔 조정해야 함\n",
    "    # +++++ # 1개\n",
    "    # -++++ # 5개\n",
    "    # --+++ # 10개 5! / 3! 2!\n",
    "    # ---++ # 10개 5C3\n",
    "    # ----+ # 5개 \n",
    "    # ----- # 1개\n",
    "\n",
    "    ## with dfs\n",
    "\n",
    "\n",
    "\n",
    "\n",
    "    return answer"
   ]
  },
  {
   "cell_type": "code",
   "execution_count": 4,
   "metadata": {},
   "outputs": [],
   "source": [
    "def solution(numbers, target):\n",
    "  leaves = [0]          # 모든 계산 결과를 담자      \n",
    "  count = 0 \n",
    "\n",
    "  for num in numbers : \n",
    "    temp = []\n",
    "\t\n",
    "    # 자손 노드 \n",
    "    for leaf in leaves : \n",
    "      temp.append(leaf + num)    # 더하는 경우 \n",
    "      temp.append(leaf - num)    # 빼는 경우 \n",
    "\n",
    "    leaves = temp\n",
    "    print(leaves)\n",
    "\n",
    "  # 모든 경우의 수 계산 후 target과 같은지 확인 \n",
    "  for leaf in leaves : \n",
    "    if leaf == target : \n",
    "      count += 1\n",
    "\n",
    "  return count"
   ]
  },
  {
   "cell_type": "code",
   "execution_count": 5,
   "metadata": {},
   "outputs": [
    {
     "name": "stdout",
     "output_type": "stream",
     "text": [
      "[1, -1]\n",
      "[2, 0, 0, -2]\n",
      "[3, 1, 1, -1, 1, -1, -1, -3]\n",
      "[4, 2, 2, 0, 2, 0, 0, -2, 2, 0, 0, -2, 0, -2, -2, -4]\n",
      "[5, 3, 3, 1, 3, 1, 1, -1, 3, 1, 1, -1, 1, -1, -1, -3, 3, 1, 1, -1, 1, -1, -1, -3, 1, -1, -1, -3, -1, -3, -3, -5]\n"
     ]
    },
    {
     "data": {
      "text/plain": [
       "5"
      ]
     },
     "execution_count": 5,
     "metadata": {},
     "output_type": "execute_result"
    }
   ],
   "source": [
    "# 모든 경우의 수를 담고, target과의 일치 여부를 확인한다.\n",
    "solution([1,1,1,1,1], 3)"
   ]
  },
  {
   "cell_type": "code",
   "execution_count": null,
   "metadata": {},
   "outputs": [],
   "source": [
    "# def dfs(arr, target):\n",
    "#     + arr[0]"
   ]
  },
  {
   "cell_type": "code",
   "execution_count": null,
   "metadata": {},
   "outputs": [],
   "source": [
    "# 로직을 먼저 생각해보자\n",
    "\n",
    "# 11111이 있을 때, 아래와 같은 로직으로 3이 되는지 안되는지 탐색해야 함.\n",
    "# +1+1+1+1+1\n",
    "# +1+1+1+1-1\n",
    "# +1+1+1-1+1\n",
    "# +1+1+1-1-1\n",
    "# +1+1-1+1+1"
   ]
  },
  {
   "cell_type": "code",
   "execution_count": 19,
   "metadata": {},
   "outputs": [
    {
     "name": "stdout",
     "output_type": "stream",
     "text": [
      "left empty\n"
     ]
    }
   ],
   "source": [
    "left = deque([1, 2])\n",
    "left.popleft()\n",
    "left.popleft()\n",
    "if left:\n",
    "    print(left)\n",
    "else:\n",
    "    print(\"left empty\")\n",
    "# left.popleft()"
   ]
  },
  {
   "cell_type": "code",
   "execution_count": 51,
   "metadata": {},
   "outputs": [
    {
     "name": "stdout",
     "output_type": "stream",
     "text": [
      "3\n",
      "3\n",
      "3\n",
      "3\n",
      "3\n"
     ]
    },
    {
     "data": {
      "text/plain": [
       "5"
      ]
     },
     "execution_count": 51,
     "metadata": {},
     "output_type": "execute_result"
    }
   ],
   "source": [
    "from collections import deque\n",
    "\n",
    "left = deque([1, 1, 1, 1, 1])\n",
    "target = 3\n",
    "global cnt\n",
    "cnt = 0\n",
    "\n",
    "def test(mid, left, target):\n",
    "    global cnt\n",
    "\n",
    "    if left:\n",
    "        e = left.popleft()\n",
    "        test(mid + e, left.copy(), target)\n",
    "        test(mid - e, left.copy(), target)\n",
    "    else:\n",
    "        if mid == target:\n",
    "            print(target)\n",
    "            cnt += 1\n",
    "            return\n",
    "\n",
    "a = test(0, left, target)\n",
    "cnt\n"
   ]
  },
  {
   "cell_type": "code",
   "execution_count": 46,
   "metadata": {},
   "outputs": [
    {
     "name": "stdout",
     "output_type": "stream",
     "text": [
      "[1, 2, 3, 4]\n",
      "[1, 2, 3, 4]\n"
     ]
    }
   ],
   "source": [
    "a = [1,2,3,4]\n",
    "\n",
    "def change_list(a):\n",
    "    return a[1:]\n",
    "\n",
    "print(a)\n",
    "change_list(a)\n",
    "print(a)"
   ]
  },
  {
   "cell_type": "code",
   "execution_count": null,
   "metadata": {},
   "outputs": [],
   "source": []
  },
  {
   "cell_type": "code",
   "execution_count": null,
   "metadata": {},
   "outputs": [],
   "source": []
  },
  {
   "cell_type": "code",
   "execution_count": null,
   "metadata": {},
   "outputs": [],
   "source": []
  },
  {
   "cell_type": "code",
   "execution_count": null,
   "metadata": {},
   "outputs": [],
   "source": []
  },
  {
   "cell_type": "code",
   "execution_count": null,
   "metadata": {},
   "outputs": [],
   "source": [
    "def dfs(numbers, target, idx, values):     # idx : 깊이 / values : 더하고 뺄 특정 leaf 값 \n",
    "\t\n",
    "    global cnt\n",
    "    cnt = 0 \n",
    "\t\n",
    "    # 깊이가 끝까지 닿았으면 \n",
    "    if idx == len(numbers) & values == target : \n",
    "    \tcnt += 1\n",
    "        return \n",
    "  \n",
    "    # 끝까지 탐색했는데 sum이 target과 다르다면 그냥 넘어간다\n",
    "    elif idx == len(numbers) : \n",
    "    \treturn \n",
    "    \n",
    "    # 재귀함수로 구현 \n",
    "    dfs(numbers, target, idx+1, values + numbers[idx])   # 새로운 value 값 세팅   \n",
    "    dfs(numbers, target, idx+1, values - numbers[idx])\n",
    " \n",
    " def solution(numbers, target) : \n",
    " \t\n",
    "    global cnt\n",
    "    dfs(numbers, target, 0, 0)\n",
    "    \n",
    "    return cnt"
   ]
  },
  {
   "attachments": {},
   "cell_type": "markdown",
   "metadata": {},
   "source": [
    "# another problem\n",
    "\n",
    "we can call this kind of job problem solving tasks.\n",
    "\n",
    "\n",
    "문제 설명\n",
    "\n",
    "네트워크란 컴퓨터 상호 간에 정보를 교환할 수 있도록 연결된 형태를 의미합니다. 예를 들어, 컴퓨터 A와 컴퓨터 B가 직접적으로 연결되어있고, 컴퓨터 B와 컴퓨터 C가 직접적으로 연결되어 있을 때 컴퓨터 A와 컴퓨터 C도 간접적으로 연결되어 정보를 교환할 수 있습니다. 따라서 컴퓨터 A, B, C는 모두 같은 네트워크 상에 있다고 할 수 있습니다.\n",
    "\n",
    "컴퓨터의 개수 n, 연결에 대한 정보가 담긴 2차원 배열 computers가 매개변수로 주어질 때, 네트워크의 개수를 return 하도록 solution 함수를 작성하시오.\n",
    "\n",
    "제한사항\n",
    "\n",
    "컴퓨터의 개수 n은 1 이상 200 이하인 자연수입니다.\n",
    "각 컴퓨터는 0부터 n-1인 정수로 표현합니다.\n",
    "i번 컴퓨터와 j번 컴퓨터가 연결되어 있으면 computers[i][j]를 1로 표현합니다.\n",
    "computer[i][i]는 항상 1입니다.\n",
    "\n",
    "입출력 예\n",
    "n\tcomputers\treturn\n",
    "3\t[[1, 1, 0], [1, 1, 0], [0, 0, 1]]\t2\n",
    "3\t[[1, 1, 0], [1, 1, 1], [0, 1, 1]]\t1\n",
    "\n",
    "입출력 예 설명\n",
    "예제 #1\n",
    "아래와 같이 2개의 네트워크가 있습니다."
   ]
  },
  {
   "cell_type": "code",
   "execution_count": null,
   "metadata": {},
   "outputs": [],
   "source": [
    "주어지는 행렬은 인접행렬임. 이어져있으면 하나의 네트워크로 봄"
   ]
  },
  {
   "cell_type": "code",
   "execution_count": 52,
   "metadata": {},
   "outputs": [],
   "source": [
    "ex1_n = 3\n",
    "ex1_c = [[1, 1, 0], [1, 1, 0], [0, 0, 1]]\n",
    "\n",
    "ex2_n = 3\n",
    "ex2_c = [[1, 1, 0], [1, 1, 0], [0, 1, 1]]"
   ]
  },
  {
   "cell_type": "code",
   "execution_count": 53,
   "metadata": {},
   "outputs": [],
   "source": [
    "def solution(n, computers):\n",
    "    global answer\n",
    "    answer = 0\n",
    "    \n",
    "    # dfs()\n",
    "    \n",
    "    return answer"
   ]
  },
  {
   "cell_type": "code",
   "execution_count": 61,
   "metadata": {},
   "outputs": [
    {
     "data": {
      "text/plain": [
       "array([[1, 2]])"
      ]
     },
     "execution_count": 61,
     "metadata": {},
     "output_type": "execute_result"
    }
   ],
   "source": [
    "import numpy as np\n",
    "\n",
    "np.add(np.where([1,1,0][1:]), 1)"
   ]
  },
  {
   "cell_type": "code",
   "execution_count": 63,
   "metadata": {},
   "outputs": [
    {
     "data": {
      "text/plain": [
       "[1, 1, 0]"
      ]
     },
     "execution_count": 63,
     "metadata": {},
     "output_type": "execute_result"
    }
   ],
   "source": [
    "idx, ex1_c[0]\n",
    "ex1_c[1]"
   ]
  },
  {
   "cell_type": "code",
   "execution_count": 68,
   "metadata": {},
   "outputs": [
    {
     "data": {
      "text/plain": [
       "[[1, 1, 0], [1, 1, 0], [0, 0, 1]]"
      ]
     },
     "execution_count": 68,
     "metadata": {},
     "output_type": "execute_result"
    }
   ],
   "source": [
    "ex1_c"
   ]
  },
  {
   "cell_type": "code",
   "execution_count": 84,
   "metadata": {},
   "outputs": [
    {
     "ename": "AttributeError",
     "evalue": "'list' object has no attribute 'discard'",
     "output_type": "error",
     "traceback": [
      "\u001b[0;31m---------------------------------------------------------------------------\u001b[0m",
      "\u001b[0;31mAttributeError\u001b[0m                            Traceback (most recent call last)",
      "Cell \u001b[0;32mIn[84], line 2\u001b[0m\n\u001b[1;32m      1\u001b[0m a \u001b[39m=\u001b[39m [\u001b[39m1\u001b[39m,\u001b[39m2\u001b[39m,\u001b[39m3\u001b[39m,\u001b[39m4\u001b[39m]\n\u001b[0;32m----> 2\u001b[0m a\u001b[39m.\u001b[39;49mdiscard(\u001b[39m0\u001b[39m)\n\u001b[1;32m      3\u001b[0m a\n",
      "\u001b[0;31mAttributeError\u001b[0m: 'list' object has no attribute 'discard'"
     ]
    }
   ],
   "source": [
    "a = [1,2,3,4]\n",
    "a.discard(0)\n",
    "a"
   ]
  },
  {
   "cell_type": "code",
   "execution_count": 87,
   "metadata": {},
   "outputs": [],
   "source": [
    "# global cnt\n",
    "# cnt = n\n",
    "\n",
    "visited = []"
   ]
  },
  {
   "cell_type": "code",
   "execution_count": 79,
   "metadata": {},
   "outputs": [
    {
     "name": "stdout",
     "output_type": "stream",
     "text": [
      "[0, 1]\n",
      "[0, 1]\n",
      "[2]\n"
     ]
    },
    {
     "ename": "IndexError",
     "evalue": "list assignment index out of range",
     "output_type": "error",
     "traceback": [
      "\u001b[0;31m---------------------------------------------------------------------------\u001b[0m",
      "\u001b[0;31mIndexError\u001b[0m                                Traceback (most recent call last)",
      "Cell \u001b[0;32mIn[79], line 14\u001b[0m\n\u001b[1;32m      8\u001b[0m     dfs(computers, idx)\n\u001b[1;32m      9\u001b[0m     \u001b[39m# c = set(np.where(c))\u001b[39;00m\n\u001b[1;32m     10\u001b[0m     \n\u001b[1;32m     11\u001b[0m     \u001b[39m# if computers:\u001b[39;00m\n\u001b[1;32m     12\u001b[0m     \u001b[39m#     c.discard(idx)\u001b[39;00m\n\u001b[0;32m---> 14\u001b[0m dfs(ex1_c, \u001b[39m0\u001b[39;49m)\n",
      "Cell \u001b[0;32mIn[79], line 8\u001b[0m, in \u001b[0;36mdfs\u001b[0;34m(computers, idx)\u001b[0m\n\u001b[1;32m      6\u001b[0m \u001b[39mdel\u001b[39;00m linked[idx]\n\u001b[1;32m      7\u001b[0m idx \u001b[39m+\u001b[39m\u001b[39m=\u001b[39m \u001b[39m1\u001b[39m\n\u001b[0;32m----> 8\u001b[0m dfs(computers, idx)\n",
      "Cell \u001b[0;32mIn[79], line 8\u001b[0m, in \u001b[0;36mdfs\u001b[0;34m(computers, idx)\u001b[0m\n\u001b[1;32m      6\u001b[0m \u001b[39mdel\u001b[39;00m linked[idx]\n\u001b[1;32m      7\u001b[0m idx \u001b[39m+\u001b[39m\u001b[39m=\u001b[39m \u001b[39m1\u001b[39m\n\u001b[0;32m----> 8\u001b[0m dfs(computers, idx)\n",
      "Cell \u001b[0;32mIn[79], line 6\u001b[0m, in \u001b[0;36mdfs\u001b[0;34m(computers, idx)\u001b[0m\n\u001b[1;32m      3\u001b[0m linked \u001b[39m=\u001b[39m \u001b[39mlist\u001b[39m(np\u001b[39m.\u001b[39mwhere(c)[\u001b[39m0\u001b[39m])\n\u001b[1;32m      4\u001b[0m \u001b[39mprint\u001b[39m(linked)\n\u001b[0;32m----> 6\u001b[0m \u001b[39mdel\u001b[39;00m linked[idx]\n\u001b[1;32m      7\u001b[0m idx \u001b[39m+\u001b[39m\u001b[39m=\u001b[39m \u001b[39m1\u001b[39m\n\u001b[1;32m      8\u001b[0m dfs(computers, idx)\n",
      "\u001b[0;31mIndexError\u001b[0m: list assignment index out of range"
     ]
    }
   ],
   "source": [
    "def dfs(n, computers, idx, visited):\n",
    "    c = computers[idx]\n",
    "    linked = list(np.where(c)[0])\n",
    "    \n",
    "    print(linked)\n",
    "\n",
    "    try:\n",
    "        # linked.remove(idx)\n",
    "        cnt \n",
    "    except:\n",
    "        pass\n",
    "\n",
    "    idx += 1\n",
    "\n",
    "    if idx >= n:\n",
    "        return\n",
    "    else:\n",
    "        dfs(computers, idx)\n",
    "    # c = set(np.where(c))\n",
    "    \n",
    "    # if computers:\n",
    "    #     c.discard(idx)\n",
    "\n",
    "# left = [x for x in range(ex1_n)]\n",
    "# dfs(ex1_c, 0, left)"
   ]
  },
  {
   "cell_type": "code",
   "execution_count": null,
   "metadata": {},
   "outputs": [],
   "source": []
  }
 ],
 "metadata": {
  "kernelspec": {
   "display_name": "general",
   "language": "python",
   "name": "python3"
  },
  "language_info": {
   "codemirror_mode": {
    "name": "ipython",
    "version": 3
   },
   "file_extension": ".py",
   "mimetype": "text/x-python",
   "name": "python",
   "nbconvert_exporter": "python",
   "pygments_lexer": "ipython3",
   "version": "3.10.0"
  },
  "orig_nbformat": 4
 },
 "nbformat": 4,
 "nbformat_minor": 2
}
