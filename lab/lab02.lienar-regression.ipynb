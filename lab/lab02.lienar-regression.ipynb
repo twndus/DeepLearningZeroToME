{
 "cells": [
  {
   "attachments": {},
   "cell_type": "markdown",
   "metadata": {},
   "source": [
    "# 02. implement linear regression with tf"
   ]
  },
  {
   "cell_type": "code",
   "execution_count": 1,
   "metadata": {},
   "outputs": [],
   "source": [
    "import tensorflow as tf"
   ]
  },
  {
   "cell_type": "code",
   "execution_count": 2,
   "metadata": {},
   "outputs": [],
   "source": [
    "x = [1,2,3]\n",
    "y = [1,2,3]\n",
    "\n",
    "W = tf.Variable((5,), shape=(1,), dtype='float32')\n",
    "\n",
    "@tf.function\n",
    "def cost():\n",
    "    hypothesis = x * W\n",
    "    loss = tf.reduce_mean(tf.square(hypothesis - y))\n",
    "    return loss\n",
    "\n",
    "sgd = tf.keras.optimizers.legacy.SGD(learning_rate=0.01)"
   ]
  },
  {
   "cell_type": "code",
   "execution_count": 3,
   "metadata": {},
   "outputs": [
    {
     "name": "stdout",
     "output_type": "stream",
     "text": [
      "[4.6266665]\n",
      "[4.2881775]\n",
      "[3.9812808]\n",
      "[3.703028]\n",
      "[3.4507453]\n",
      "[3.2220092]\n",
      "[3.0146217]\n",
      "[2.8265903]\n",
      "[2.6561086]\n",
      "[2.5015385]\n",
      "[2.361395]\n",
      "[2.2343314]\n",
      "[2.119127]\n",
      "[2.0146751]\n",
      "[1.9199722]\n",
      "[1.8341081]\n",
      "[1.756258]\n",
      "[1.685674]\n",
      "[1.6216778]\n",
      "[1.5636545]\n",
      "[1.5110468]\n",
      "[1.4633491]\n",
      "[1.4201032]\n",
      "[1.3808936]\n",
      "[1.3453435]\n",
      "[1.3131114]\n",
      "[1.2838877]\n",
      "[1.2573916]\n",
      "[1.2333684]\n",
      "[1.2115873]\n",
      "[1.1918392]\n",
      "[1.1739342]\n",
      "[1.1577003]\n",
      "[1.1429816]\n",
      "[1.1296366]\n",
      "[1.1175373]\n",
      "[1.1065671]\n",
      "[1.0966209]\n",
      "[1.087603]\n",
      "[1.0794266]\n",
      "[1.0720135]\n",
      "[1.0652922]\n",
      "[1.0591983]\n",
      "[1.0536731]\n",
      "[1.0486636]\n",
      "[1.0441216]\n",
      "[1.0400037]\n",
      "[1.03627]\n",
      "[1.0328848]\n",
      "[1.0298156]\n"
     ]
    }
   ],
   "source": [
    "for i in range(50):\n",
    "    sgd.minimize(cost, var_list=[W], tape=tf.GradientTape())\n",
    "    print(W.numpy())"
   ]
  },
  {
   "attachments": {},
   "cell_type": "markdown",
   "metadata": {},
   "source": [
    "점점 결과가 1로 수렴하는 것을 알 수 있음"
   ]
  }
 ],
 "metadata": {
  "kernelspec": {
   "display_name": "general",
   "language": "python",
   "name": "python3"
  },
  "language_info": {
   "codemirror_mode": {
    "name": "ipython",
    "version": 3
   },
   "file_extension": ".py",
   "mimetype": "text/x-python",
   "name": "python",
   "nbconvert_exporter": "python",
   "pygments_lexer": "ipython3",
   "version": "3.10.0"
  },
  "orig_nbformat": 4
 },
 "nbformat": 4,
 "nbformat_minor": 2
}
