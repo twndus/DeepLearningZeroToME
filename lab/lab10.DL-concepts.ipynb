{
 "cells": [
  {
   "attachments": {},
   "cell_type": "markdown",
   "metadata": {},
   "source": [
    "# MNIST Practive\n",
    "\n",
    "1. basic\n",
    "2. xavier\n",
    "3. deep\n",
    "4. relu\n",
    "5. dropout\n",
    "6. batchnorm"
   ]
  },
  {
   "cell_type": "code",
   "execution_count": 1,
   "metadata": {},
   "outputs": [],
   "source": [
    "from sklearn.datasets import load_digits\n",
    "import tensorflow as tf\n",
    "import matplotlib.pyplot as plt"
   ]
  },
  {
   "attachments": {},
   "cell_type": "markdown",
   "metadata": {},
   "source": [
    "## load data"
   ]
  },
  {
   "cell_type": "code",
   "execution_count": 2,
   "metadata": {},
   "outputs": [
    {
     "data": {
      "text/plain": [
       "dict_keys(['data', 'target', 'frame', 'feature_names', 'target_names', 'images', 'DESCR'])"
      ]
     },
     "execution_count": 2,
     "metadata": {},
     "output_type": "execute_result"
    }
   ],
   "source": [
    "mnist_data = load_digits()\n",
    "mnist_data.keys()"
   ]
  },
  {
   "cell_type": "code",
   "execution_count": 3,
   "metadata": {},
   "outputs": [
    {
     "data": {
      "text/plain": [
       "((1797, 8, 8), 0.0, 16.0)"
      ]
     },
     "execution_count": 3,
     "metadata": {},
     "output_type": "execute_result"
    }
   ],
   "source": [
    "mnist_data.images.shape, mnist_data.images.min(), mnist_data.images.max()"
   ]
  },
  {
   "cell_type": "code",
   "execution_count": 4,
   "metadata": {},
   "outputs": [
    {
     "data": {
      "text/plain": [
       "(dtype('float32'), (1797, 64))"
      ]
     },
     "execution_count": 4,
     "metadata": {},
     "output_type": "execute_result"
    }
   ],
   "source": [
    "x_data = mnist_data.images.reshape((1797, 64)).astype('float32')\n",
    "x_data = (x_data - x_data.min()) / (x_data.max() - x_data.min())\n",
    "\n",
    "x_data.dtype, x_data.shape"
   ]
  },
  {
   "cell_type": "code",
   "execution_count": 5,
   "metadata": {},
   "outputs": [
    {
     "data": {
      "text/plain": [
       "((1437, 64), (360, 64), TensorShape([1437, 10]), TensorShape([360, 10]))"
      ]
     },
     "execution_count": 5,
     "metadata": {},
     "output_type": "execute_result"
    }
   ],
   "source": [
    "# split train test set\n",
    "from sklearn.model_selection import train_test_split\n",
    "\n",
    "X_train, X_test, y_train, y_test =\\\n",
    "    train_test_split(x_data, mnist_data.target, test_size=.2, random_state=42)\n",
    "\n",
    "y_train = tf.one_hot(y_train.astype('float32'), depth=10)\n",
    "y_test = tf.one_hot(y_test.astype('float32'), depth=10)\n",
    "\n",
    "X_train.shape, X_test.shape, y_train.shape, y_test.shape"
   ]
  },
  {
   "cell_type": "markdown",
   "metadata": {},
   "source": [
    "## basic model"
   ]
  },
  {
   "cell_type": "code",
   "execution_count": 6,
   "metadata": {},
   "outputs": [],
   "source": [
    "W = tf.Variable(tf.random.normal((64, 10), dtype='float32'), dtype='float32')\n",
    "b = tf.Variable(tf.random.normal((10,), dtype='float32'), dtype='float32')\n",
    "\n",
    "def simple_model(X, W, b):\n",
    "    return tf.nn.softmax(tf.matmul(X, W) + b)\n",
    "\n",
    "def loss(pred, true):\n",
    "    return -true*tf.math.log(pred)-(1-true)*tf.math.log(1-pred)\n",
    "\n",
    "learning_rate = 0.001\n",
    "sgd = tf.optimizers.legacy.SGD(learning_rate)"
   ]
  },
  {
   "cell_type": "code",
   "execution_count": 7,
   "metadata": {},
   "outputs": [
    {
     "name": "stdout",
     "output_type": "stream",
     "text": [
      "epochs: 0, cost: 15107.712890625\n",
      "epochs: 100, cost: 538.5036010742188\n",
      "epochs: 200, cost: 359.4961242675781\n",
      "epochs: 300, cost: 287.82421875\n",
      "epochs: 400, cost: 246.5620880126953\n",
      "epochs: 500, cost: 218.5953369140625\n"
     ]
    }
   ],
   "source": [
    "epochs = 501\n",
    "\n",
    "for e in range(epochs):\n",
    "    with tf.GradientTape() as tape:\n",
    "        pred = simple_model(X_train, W, b)\n",
    "        cost = loss(pred, y_train)\n",
    "    \n",
    "    # 파라미터 업데이트\n",
    "    sgd.minimize(cost, var_list=[W, b], tape=tape)\n",
    "\n",
    "    # print(pred)\n",
    "    if e%100==0:\n",
    "        print(f'epochs: {e}, cost: {tf.reduce_sum(cost)}')\n",
    "    "
   ]
  },
  {
   "cell_type": "code",
   "execution_count": 8,
   "metadata": {},
   "outputs": [
    {
     "name": "stdout",
     "output_type": "stream",
     "text": [
      "0.96944445\n"
     ]
    },
    {
     "data": {
      "image/png": "[encoded data removed]",
      "text/plain": [
       "<Figure size 640x480 with 5 Axes>"
      ]
     },
     "metadata": {},
     "output_type": "display_data"
    }
   ],
   "source": [
    "import random\n",
    "\n",
    "# inference\n",
    "pred = simple_model(X_test, W, b)\n",
    "acc = tf.reduce_mean(tf.cast(tf.equal(tf.argmax(pred, axis=1), \n",
    "    tf.argmax(y_test, axis=1)), dtype='float32')).numpy()\n",
    "print(acc)\n",
    "\n",
    "for i in range(5):\n",
    "    plt.subplot(151+i)\n",
    "    i = random.randint(0, y_test.shape[0])\n",
    "    plt.imshow(x_data[i].reshape((8,8)), cmap='gray')\n",
    "    plt.title(f\"{tf.argmax(y_test[i])}, {tf.argmax(pred[i])}\")"
   ]
  },
  {
   "attachments": {},
   "cell_type": "markdown",
   "metadata": {},
   "source": [
    "## xavier initialized model"
   ]
  },
  {
   "cell_type": "code",
   "execution_count": 9,
   "metadata": {},
   "outputs": [],
   "source": [
    "import numpy as np\n",
    "\n",
    "# xavier initializer\n",
    "def xavier_init(shape):\n",
    "    if len(shape) > 1:\n",
    "        fan_in = shape[0]\n",
    "        fan_out = shape[1]\n",
    "        return np.random.randn(fan_in,fan_out)/np.sqrt(fan_in)\n",
    "    else:\n",
    "        fan_in = shape[0]\n",
    "        return np.random.randn(fan_in)/np.sqrt(fan_in)\n",
    "\n",
    "def he_init(shape):\n",
    "    fan_in = shape[0]\n",
    "    fan_out = shape[1]\n",
    "    return np.random.randn(fan_in+fan_out)/np.sqrt(fan_in)"
   ]
  },
  {
   "cell_type": "code",
   "execution_count": 10,
   "metadata": {},
   "outputs": [],
   "source": [
    "W2 = tf.Variable(xavier_init((64, 10)), dtype='float32')\n",
    "b2 = tf.Variable(xavier_init((10, )), dtype='float32')"
   ]
  },
  {
   "cell_type": "code",
   "execution_count": 11,
   "metadata": {},
   "outputs": [
    {
     "name": "stdout",
     "output_type": "stream",
     "text": [
      "epochs: 0, cost: 4917.91943359375\n",
      "epochs: 100, cost: 457.81298828125\n",
      "epochs: 200, cost: 328.09228515625\n",
      "epochs: 300, cost: 270.9531555175781\n",
      "epochs: 400, cost: 236.09817504882812\n",
      "epochs: 500, cost: 211.61700439453125\n"
     ]
    }
   ],
   "source": [
    "epochs = 501\n",
    "\n",
    "for e in range(epochs):\n",
    "    with tf.GradientTape() as tape:\n",
    "        pred = simple_model(X_train, W2, b2)\n",
    "        cost = loss(pred, y_train)\n",
    "    \n",
    "    # 파라미터 업데이트\n",
    "    sgd.minimize(cost, var_list=[W2, b2], tape=tape)\n",
    "\n",
    "    # print(pred)\n",
    "    if e%100==0:\n",
    "        print(f'epochs: {e}, cost: {tf.reduce_sum(cost)}')\n",
    "    "
   ]
  },
  {
   "cell_type": "code",
   "execution_count": 12,
   "metadata": {},
   "outputs": [
    {
     "name": "stdout",
     "output_type": "stream",
     "text": [
      "0.96944445\n"
     ]
    },
    {
     "data": {
      "image/png": "[encoded data removed]",
      "text/plain": [
       "<Figure size 640x480 with 5 Axes>"
      ]
     },
     "metadata": {},
     "output_type": "display_data"
    }
   ],
   "source": [
    "# inference\n",
    "pred = simple_model(X_test, W, b)\n",
    "acc = tf.reduce_mean(tf.cast(tf.equal(tf.argmax(pred, axis=1), \n",
    "    tf.argmax(y_test, axis=1)), dtype='float32')).numpy()\n",
    "print(acc)\n",
    "\n",
    "for i in range(5):\n",
    "    plt.subplot(151+i)\n",
    "    i = random.randint(0, y_test.shape[0])\n",
    "    plt.imshow(x_data[i].reshape((8,8)), cmap='gray')\n",
    "    plt.title(f\"{tf.argmax(y_test[i])}, {tf.argmax(pred[i])}\")"
   ]
  },
  {
   "attachments": {},
   "cell_type": "markdown",
   "metadata": {},
   "source": [
    "## deep model"
   ]
  },
  {
   "cell_type": "code",
   "execution_count": 13,
   "metadata": {},
   "outputs": [],
   "source": [
    "W3 = tf.Variable(xavier_init((64, 784)), dtype='float32')\n",
    "b3 = tf.Variable(xavier_init((784, )), dtype='float32')\n",
    "\n",
    "W4 = tf.Variable(xavier_init((784, 10)), dtype='float32')\n",
    "b4 = tf.Variable(xavier_init((10, )), dtype='float32')\n",
    "\n",
    "def deep_model(X, W3, b3, W4, b4):\n",
    "    l1 = tf.nn.sigmoid(tf.matmul(X, W3) + b3)\n",
    "    return tf.nn.softmax(tf.matmul(l1, W4) + b4)\n",
    "\n",
    "learning_rate = 0.001\n",
    "adam = tf.optimizers.legacy.Adam(learning_rate)"
   ]
  },
  {
   "cell_type": "code",
   "execution_count": 14,
   "metadata": {},
   "outputs": [
    {
     "name": "stdout",
     "output_type": "stream",
     "text": [
      "epochs: 0, cost: 4955.17822265625\n",
      "epochs: 100, cost: 1119.97705078125\n",
      "epochs: 200, cost: 433.683837890625\n",
      "epochs: 300, cost: 272.33087158203125\n",
      "epochs: 400, cost: 192.9766387939453\n",
      "epochs: 500, cost: 142.94854736328125\n",
      "epochs: 600, cost: 108.56341552734375\n",
      "epochs: 700, cost: 83.98458099365234\n"
     ]
    }
   ],
   "source": [
    "epochs = 701\n",
    "\n",
    "for e in range(epochs):\n",
    "    with tf.GradientTape() as tape:\n",
    "        pred = deep_model(X_train, W3, b3, W4, b4)\n",
    "        cost = loss(pred, y_train)\n",
    "    \n",
    "    # 파라미터 업데이트\n",
    "    adam.minimize(cost, var_list=[W3, b3, W4, b4], tape=tape)\n",
    "\n",
    "    # print(pred)\n",
    "    if e%100==0:\n",
    "        print(f'epochs: {e}, cost: {tf.reduce_sum(cost)}')"
   ]
  },
  {
   "cell_type": "code",
   "execution_count": 15,
   "metadata": {},
   "outputs": [
    {
     "name": "stdout",
     "output_type": "stream",
     "text": [
      "0.96944445\n"
     ]
    },
    {
     "data": {
      "image/png": "[encoded data removed]",
      "text/plain": [
       "<Figure size 640x480 with 5 Axes>"
      ]
     },
     "metadata": {},
     "output_type": "display_data"
    }
   ],
   "source": [
    "import random\n",
    "\n",
    "# inference\n",
    "pred = deep_model(X_test, W3, b3, W4, b4)\n",
    "acc = tf.reduce_mean(tf.cast(tf.equal(tf.argmax(pred, axis=1), \n",
    "tf.argmax(y_test, axis=1)), dtype='float32')).numpy()\n",
    "print(acc)\n",
    "\n",
    "for i in range(5):\n",
    "    plt.subplot(151+i)\n",
    "    i = random.randint(0, y_test.shape[0])\n",
    "    plt.imshow(x_data[i].reshape((8,8)), cmap='gray')\n",
    "    plt.title(f\"{tf.argmax(y_test[i])}, {tf.argmax(pred[i])}\")"
   ]
  },
  {
   "attachments": {},
   "cell_type": "markdown",
   "metadata": {},
   "source": [
    "overfitting 된 듯"
   ]
  },
  {
   "cell_type": "code",
   "execution_count": null,
   "metadata": {},
   "outputs": [],
   "source": []
  },
  {
   "cell_type": "code",
   "execution_count": null,
   "metadata": {},
   "outputs": [],
   "source": []
  },
  {
   "cell_type": "code",
   "execution_count": null,
   "metadata": {},
   "outputs": [],
   "source": []
  }
 ],
 "metadata": {
  "kernelspec": {
   "display_name": "recsys",
   "language": "python",
   "name": "python3"
  },
  "language_info": {
   "codemirror_mode": {
    "name": "ipython",
    "version": 3
   },
   "file_extension": ".py",
   "mimetype": "text/x-python",
   "name": "python",
   "nbconvert_exporter": "python",
   "pygments_lexer": "ipython3",
   "version": "3.10.0"
  },
  "orig_nbformat": 4
 },
 "nbformat": 4,
 "nbformat_minor": 2
}
