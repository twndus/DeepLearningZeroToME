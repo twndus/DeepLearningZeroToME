{
 "cells": [
  {
   "attachments": {},
   "cell_type": "markdown",
   "metadata": {},
   "source": [
    "# MNIST Practive\n",
    "\n",
    "1. basic\n",
    "2. xavier\n",
    "3. relu\n",
    "4. deep\n",
    "5. dropout\n",
    "6. batchnorm"
   ]
  }
 ],
 "metadata": {
  "language_info": {
   "name": "python"
  },
  "orig_nbformat": 4
 },
 "nbformat": 4,
 "nbformat_minor": 2
}
