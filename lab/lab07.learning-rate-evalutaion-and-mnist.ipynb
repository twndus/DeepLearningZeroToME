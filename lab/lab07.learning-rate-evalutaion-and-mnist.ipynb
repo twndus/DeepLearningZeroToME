{
 "cells": [
  {
   "attachments": {},
   "cell_type": "markdown",
   "metadata": {},
   "source": [
    "# lec 07. learning-rate and evaluation"
   ]
  },
  {
   "attachments": {},
   "cell_type": "markdown",
   "metadata": {},
   "source": [
    "## 1. check result with different learning rate"
   ]
  },
  {
   "cell_type": "code",
   "execution_count": 1,
   "metadata": {},
   "outputs": [],
   "source": [
    "import numpy as np\n",
    "import matplotlib.pyplot as plt\n",
    "\n",
    "import tensorflow as tf"
   ]
  },
  {
   "cell_type": "code",
   "execution_count": 2,
   "metadata": {},
   "outputs": [],
   "source": [
    "x_data = np.array([[1, 2, 1],\n",
    "          [1, 3, 2],\n",
    "          [1, 3, 4],\n",
    "          [1, 5, 5],\n",
    "          [1, 7, 5],\n",
    "          [1, 2, 5],\n",
    "          [1, 6, 6],\n",
    "          [1, 7, 7]], dtype='float32')\n",
    "y_data = np.array([[0, 0, 1],\n",
    "          [0, 0, 1],\n",
    "          [0, 0, 1],\n",
    "          [0, 1, 0],\n",
    "          [0, 1, 0],\n",
    "          [0, 1, 0],\n",
    "          [1, 0, 0],\n",
    "          [1, 0, 0]], dtype='float32')\n",
    "\n",
    "# Evaluation our model using this test dataset\n",
    "x_test = np.array([[2, 1, 1],\n",
    "          [3, 1, 2],\n",
    "          [3, 3, 4]], dtype='float32')\n",
    "y_test = np.array([[0, 0, 1],\n",
    "          [0, 0, 1],\n",
    "          [0, 0, 1]], dtype='float32')"
   ]
  },
  {
   "cell_type": "code",
   "execution_count": 3,
   "metadata": {},
   "outputs": [
    {
     "name": "stdout",
     "output_type": "stream",
     "text": [
      "==================== learning rate: 1 ====================\n",
      "epoch:  100  costs:  587.7707\n",
      "epoch:  200  costs:  285.14865\n",
      "epoch:  300  costs:  44.17435\n",
      "epoch:  400  costs:  456.7936\n",
      "epoch:  500  costs:  509.41208\n",
      "==================== learning rate: 0.001 ====================\n",
      "epoch:  100  costs:  12.502428\n",
      "epoch:  200  costs:  11.04928\n",
      "epoch:  300  costs:  9.803442\n",
      "epoch:  400  costs:  8.770555\n",
      "epoch:  500  costs:  7.951294\n",
      "==================== learning rate: 1e-05 ====================\n",
      "epoch:  100  costs:  47.904335\n",
      "epoch:  200  costs:  45.66255\n",
      "epoch:  300  costs:  43.445602\n",
      "epoch:  400  costs:  41.26136\n",
      "epoch:  500  costs:  39.120754\n"
     ]
    }
   ],
   "source": [
    "epochs = 501\n",
    "\n",
    "for learning_rate in [1, 0.001, 0.00001]:\n",
    "\n",
    "    rand_w = tf.random.normal(shape=(3, 3), seed=42, dtype='float32')\n",
    "    rand_b = tf.random.normal(shape=(3,), seed=42, dtype='float32')\n",
    "\n",
    "    W = tf.Variable(rand_w, dtype='float32')\n",
    "    b = tf.Variable(rand_b, dtype='float32')\n",
    "\n",
    "    hypothesis = lambda X, W, b: tf.matmul(X, W) + b\n",
    "    loss = lambda Y, hypothesis: tf.nn.softmax_cross_entropy_with_logits(Y, hypothesis)\n",
    "\n",
    "    print(f\"==================== learning rate: {learning_rate} ====================\")\n",
    "    for i in range(epochs):\n",
    "        with tf.GradientTape() as tape:\n",
    "            # forward prop\n",
    "            logits = hypothesis(x_data, W, b)\n",
    "            losses = loss(y_data, logits)\n",
    "\n",
    "            # get differentiations\n",
    "            dl_dw, dl_db = tape.gradient(losses, [W, b])\n",
    "\n",
    "            W.assign_sub(learning_rate * dl_dw)\n",
    "            b.assign_sub(learning_rate * dl_db)\n",
    "\n",
    "            if (i // 100 >= 1) and (i % 100 == 0):\n",
    "                print(\"epoch: \", i, \" costs: \", tf.reduce_sum(losses).numpy())"
   ]
  },
  {
   "attachments": {},
   "cell_type": "markdown",
   "metadata": {},
   "source": [
    "learning_rate가 1일 때는, cost가 수렴하지 않고, 적당할 때에는 작아지고, 너무 작을 때는 cost가 줄어들긴 하지만 그 폭이 매우 작음"
   ]
  },
  {
   "attachments": {},
   "cell_type": "markdown",
   "metadata": {},
   "source": [
    "## 2. minmax and non-minmax"
   ]
  },
  {
   "attachments": {},
   "cell_type": "markdown",
   "metadata": {},
   "source": [
    "### Not scaled - 발산함"
   ]
  },
  {
   "cell_type": "code",
   "execution_count": 4,
   "metadata": {},
   "outputs": [
    {
     "data": {
      "text/plain": [
       "((8, 4), (8, 1))"
      ]
     },
     "execution_count": 4,
     "metadata": {},
     "output_type": "execute_result"
    }
   ],
   "source": [
    "xy = np.array([[828.659973, 833.450012, 908100, 828.349976, 831.659973],\n",
    "               [823.02002, 828.070007, 1828100, 821.655029, 828.070007],\n",
    "               [819.929993, 824.400024, 1438100, 818.97998, 824.159973],\n",
    "               [816, 820.958984, 1008100, 815.48999, 819.23999],\n",
    "               [819.359985, 823, 1188100, 818.469971, 818.97998],\n",
    "               [819, 823, 1198100, 816, 820.450012],\n",
    "               [811.700012, 815.25, 1098100, 809.780029, 813.669983],\n",
    "               [809.51001, 816.659973, 1398100, 804.539978, 809.559998]], dtype='float32')\n",
    "\n",
    "x_data = xy[:, 0:-1]\n",
    "y_data = xy[:, [-1]]\n",
    "\n",
    "x_data.shape, y_data.shape"
   ]
  },
  {
   "cell_type": "code",
   "execution_count": 5,
   "metadata": {},
   "outputs": [
    {
     "name": "stdout",
     "output_type": "stream",
     "text": [
      "epoch:  0  costs:  44355520000000.0\n",
      "epoch:  1  costs:  3.118884e+34\n",
      "epoch:  2  costs:  inf\n",
      "epoch:  3  costs:  inf\n",
      "epoch:  4  costs:  inf\n",
      "epoch:  5  costs:  nan\n",
      "epoch:  6  costs:  nan\n",
      "epoch:  7  costs:  nan\n",
      "epoch:  8  costs:  nan\n",
      "epoch:  9  costs:  nan\n"
     ]
    }
   ],
   "source": [
    "epochs = 10\n",
    "learning_rate = 0.001\n",
    "\n",
    "rand_w = tf.random.normal(shape=(4,1), seed=42, dtype='float32')\n",
    "rand_b = tf.random.normal(shape=(1,), seed=42, dtype='float32')\n",
    "\n",
    "W = tf.Variable(rand_w, dtype='float32')\n",
    "b = tf.Variable(rand_b, dtype='float32')\n",
    "\n",
    "hypothesis = lambda X, W, b: tf.matmul(X, W) + b\n",
    "loss = lambda Y, hypothesis: tf.reduce_sum(tf.square(Y - hypothesis))\n",
    "\n",
    "for i in range(epochs):\n",
    "    with tf.GradientTape() as tape:\n",
    "        # forward prop\n",
    "        y_pred = hypothesis(x_data, W, b)\n",
    "        losses = loss(y_data, y_pred)\n",
    "\n",
    "        # get differentiations\n",
    "        dl_dw, dl_db = tape.gradient(losses, [W, b])\n",
    "\n",
    "        W.assign_sub(learning_rate * dl_dw)\n",
    "        b.assign_sub(learning_rate * dl_db)\n",
    "\n",
    "        # if (i // 10 >= 1) and (i % 10 == 0):\n",
    "        print(\"epoch: \", i, \" costs: \", tf.reduce_sum(losses).numpy())"
   ]
  },
  {
   "attachments": {},
   "cell_type": "markdown",
   "metadata": {},
   "source": [
    "### min-max scaled - 수렴함"
   ]
  },
  {
   "cell_type": "code",
   "execution_count": 6,
   "metadata": {},
   "outputs": [
    {
     "data": {
      "text/plain": [
       "array([[1.        , 1.        , 0.        , 1.        ],\n",
       "       [0.7054825 , 0.7043953 , 1.        , 0.71881485],\n",
       "       [0.5441246 , 0.5027466 , 0.57608694, 0.6064682 ],\n",
       "       [0.33890152, 0.31367874, 0.10869569, 0.45988846],\n",
       "       [0.5143585 , 0.4258232 , 0.3043478 , 0.5850487 ],\n",
       "       [0.4955597 , 0.4258232 , 0.31521744, 0.4813118 ],\n",
       "       [0.11436081, 0.        , 0.20652169, 0.22007751],\n",
       "       [0.        , 0.07747269, 0.5326087 , 0.        ]], dtype=float32)"
      ]
     },
     "execution_count": 6,
     "metadata": {},
     "output_type": "execute_result"
    }
   ],
   "source": [
    "from sklearn.preprocessing import MinMaxScaler\n",
    "\n",
    "scaler = MinMaxScaler()\n",
    "x_scaled = scaler.fit_transform(x_data)\n",
    "x_scaled"
   ]
  },
  {
   "cell_type": "code",
   "execution_count": 7,
   "metadata": {},
   "outputs": [
    {
     "name": "stdout",
     "output_type": "stream",
     "text": [
      "epoch:  100  costs:  105.22159\n",
      "epoch:  200  costs:  64.60994\n",
      "epoch:  300  costs:  41.649174\n",
      "epoch:  400  costs:  28.477316\n",
      "epoch:  500  costs:  20.920792\n",
      "epoch:  600  costs:  16.585428\n",
      "epoch:  700  costs:  14.098073\n",
      "epoch:  800  costs:  12.671328\n",
      "epoch:  900  costs:  11.852391\n",
      "epoch:  1000  costs:  11.382698\n"
     ]
    }
   ],
   "source": [
    "epochs = 1001\n",
    "learning_rate = 0.05\n",
    "\n",
    "rand_w = tf.random.normal(shape=(4,1), seed=42, dtype='float32')\n",
    "rand_b = tf.random.normal(shape=(1,), seed=42, dtype='float32')\n",
    "\n",
    "W = tf.Variable(rand_w, dtype='float32')\n",
    "b = tf.Variable(rand_b, dtype='float32')\n",
    "\n",
    "hypothesis = lambda X, W, b: tf.matmul(X, W) + b\n",
    "loss = lambda Y, hypothesis: tf.reduce_sum(tf.square(Y - hypothesis))\n",
    "\n",
    "for i in range(epochs):\n",
    "    with tf.GradientTape() as tape:\n",
    "        # forward prop\n",
    "        y_pred = hypothesis(x_scaled, W, b)\n",
    "        losses = loss(y_data, y_pred)\n",
    "\n",
    "        # get differentiations\n",
    "        dl_dw, dl_db = tape.gradient(losses, [W, b])\n",
    "\n",
    "        W.assign_sub(learning_rate * dl_dw)\n",
    "        b.assign_sub(learning_rate * dl_db)\n",
    "\n",
    "        if (i // 100 >= 1) and (i % 100 == 0):\n",
    "            print(\"epoch: \", i, \" costs: \", tf.reduce_sum(losses).numpy())"
   ]
  },
  {
   "attachments": {},
   "cell_type": "markdown",
   "metadata": {},
   "source": [
    "## 3. mnist example"
   ]
  },
  {
   "cell_type": "code",
   "execution_count": 8,
   "metadata": {},
   "outputs": [],
   "source": [
    "from sklearn.datasets import load_digits"
   ]
  },
  {
   "cell_type": "code",
   "execution_count": 9,
   "metadata": {},
   "outputs": [
    {
     "data": {
      "text/plain": [
       "dict_keys(['data', 'target', 'frame', 'feature_names', 'target_names', 'images', 'DESCR'])"
      ]
     },
     "execution_count": 9,
     "metadata": {},
     "output_type": "execute_result"
    }
   ],
   "source": [
    "dataset = load_digits()\n",
    "dataset.keys()"
   ]
  },
  {
   "cell_type": "code",
   "execution_count": 10,
   "metadata": {},
   "outputs": [
    {
     "name": "stdout",
     "output_type": "stream",
     "text": [
      ".. _digits_dataset:\n",
      "\n",
      "Optical recognition of handwritten digits dataset\n",
      "--------------------------------------------------\n",
      "\n",
      "**Data Set Characteristics:**\n",
      "\n",
      "    :Number of Instances: 1797\n",
      "    :Number of Attributes: 64\n",
      "    :Attribute Information: 8x8 image of integer pixels in the range 0..16.\n",
      "    :Missing Attribute Values: None\n",
      "    :Creator: E. Alpaydin (alpaydin '@' boun.edu.tr)\n",
      "    :Date: July; 1998\n",
      "\n",
      "This is a copy of the test set of the UCI ML hand-written digits datasets\n",
      "https://archive.ics.uci.edu/ml/datasets/Optical+Recognition+of+Handwritten+Digits\n",
      "\n",
      "The data set contains images of hand-written digits: 10 classes where\n",
      "each class refers to a digit.\n",
      "\n",
      "Preprocessing programs made available by NIST were used to extract\n",
      "normalized bitmaps of handwritten digits from a preprinted form. From a\n",
      "total of 43 people, 30 contributed to the training set and different 13\n",
      "to the test set. 32x32 bitmaps are divided into nonoverlapping blocks of\n",
      "4x4 and the number of on pixels are counted in each block. This generates\n",
      "an input matrix of 8x8 where each element is an integer in the range\n",
      "0..16. This reduces dimensionality and gives invariance to small\n",
      "distortions.\n",
      "\n",
      "For info on NIST preprocessing routines, see M. D. Garris, J. L. Blue, G.\n",
      "T. Candela, D. L. Dimmick, J. Geist, P. J. Grother, S. A. Janet, and C.\n",
      "L. Wilson, NIST Form-Based Handprint Recognition System, NISTIR 5469,\n",
      "1994.\n",
      "\n",
      ".. topic:: References\n",
      "\n",
      "  - C. Kaynak (1995) Methods of Combining Multiple Classifiers and Their\n",
      "    Applications to Handwritten Digit Recognition, MSc Thesis, Institute of\n",
      "    Graduate Studies in Science and Engineering, Bogazici University.\n",
      "  - E. Alpaydin, C. Kaynak (1998) Cascading Classifiers, Kybernetika.\n",
      "  - Ken Tang and Ponnuthurai N. Suganthan and Xi Yao and A. Kai Qin.\n",
      "    Linear dimensionalityreduction using relevance weighted LDA. School of\n",
      "    Electrical and Electronic Engineering Nanyang Technological University.\n",
      "    2005.\n",
      "  - Claudio Gentile. A New Approximate Maximal Margin Classification\n",
      "    Algorithm. NIPS. 2000.\n",
      "\n"
     ]
    }
   ],
   "source": [
    "print(dataset['DESCR'])"
   ]
  },
  {
   "cell_type": "code",
   "execution_count": 11,
   "metadata": {},
   "outputs": [
    {
     "data": {
      "text/plain": [
       "(1797, 8, 8)"
      ]
     },
     "execution_count": 11,
     "metadata": {},
     "output_type": "execute_result"
    }
   ],
   "source": [
    "dataset['images'].shape"
   ]
  },
  {
   "cell_type": "code",
   "execution_count": 12,
   "metadata": {},
   "outputs": [
    {
     "data": {
      "image/png": "[encoded data removed]",
      "text/plain": [
       "<Figure size 640x480 with 4 Axes>"
      ]
     },
     "metadata": {},
     "output_type": "display_data"
    }
   ],
   "source": [
    "idx = 0\n",
    "plt.subplot(221), plt.imshow(dataset['images'][idx], cmap='gray')\n",
    "plt.subplot(222), plt.imshow(dataset['images'][idx+1], cmap='gray')\n",
    "plt.subplot(223), plt.imshow(dataset['images'][idx+2], cmap='gray')\n",
    "plt.subplot(224), plt.imshow(dataset['images'][idx+3], cmap='gray')\n",
    "plt.show()"
   ]
  },
  {
   "cell_type": "code",
   "execution_count": 13,
   "metadata": {},
   "outputs": [
    {
     "data": {
      "text/plain": [
       "((1797, 64), (1797,))"
      ]
     },
     "execution_count": 13,
     "metadata": {},
     "output_type": "execute_result"
    }
   ],
   "source": [
    "images = dataset['images'].reshape((dataset['images'].shape[0], 64)).astype('float32')\n",
    "target = dataset['target'].astype('float32')\n",
    "\n",
    "images.shape, target.shape"
   ]
  },
  {
   "cell_type": "code",
   "execution_count": 14,
   "metadata": {},
   "outputs": [
    {
     "data": {
      "text/plain": [
       "(1797, 10)"
      ]
     },
     "execution_count": 14,
     "metadata": {},
     "output_type": "execute_result"
    }
   ],
   "source": [
    "from sklearn.preprocessing import OneHotEncoder\n",
    "\n",
    "ohe = OneHotEncoder()\n",
    "target = ohe.fit_transform(np.expand_dims(target, axis=1)).toarray()\n",
    "target.shape"
   ]
  },
  {
   "cell_type": "code",
   "execution_count": 15,
   "metadata": {},
   "outputs": [
    {
     "name": "stdout",
     "output_type": "stream",
     "text": [
      "epoch:  100  costs:  2703.9707\n",
      "epoch:  200  costs:  336.32135\n",
      "epoch:  300  costs:  116.52537\n",
      "epoch:  400  costs:  248.39671\n",
      "epoch:  500  costs:  35.90378\n",
      "epoch:  600  costs:  0.15654911\n",
      "epoch:  700  costs:  0.09040513\n",
      "epoch:  800  costs:  0.066011176\n",
      "epoch:  900  costs:  0.052812383\n",
      "epoch:  1000  costs:  0.04450065\n"
     ]
    }
   ],
   "source": [
    "learning_rate = 0.001\n",
    "\n",
    "rand_w = tf.random.normal(shape=(64, 10), seed=42, dtype='float32')\n",
    "rand_b = tf.random.normal(shape=(10,), seed=42, dtype='float32')\n",
    "\n",
    "W = tf.Variable(rand_w, dtype='float32')\n",
    "b = tf.Variable(rand_b, dtype='float32')\n",
    "\n",
    "hypothesis = lambda X, W, b: tf.matmul(X, W) + b\n",
    "loss = lambda Y, hypothesis: tf.nn.softmax_cross_entropy_with_logits(Y, hypothesis)\n",
    "\n",
    "for i in range(epochs):\n",
    "    with tf.GradientTape() as tape:\n",
    "        # forward prop\n",
    "        logits = hypothesis(images, W, b)\n",
    "        losses = loss(target, logits)\n",
    "\n",
    "        # get differentiations\n",
    "        dl_dw, dl_db = tape.gradient(losses, [W, b])\n",
    "\n",
    "        W.assign_sub(learning_rate * dl_dw)\n",
    "        b.assign_sub(learning_rate * dl_db)\n",
    "\n",
    "        if (i // 100 >= 1) and (i % 100 == 0):\n",
    "            print(\"epoch: \", i, \" costs: \", tf.reduce_sum(losses).numpy())"
   ]
  },
  {
   "cell_type": "code",
   "execution_count": 16,
   "metadata": {},
   "outputs": [
    {
     "data": {
      "image/png": "[encoded data removed]",
      "text/plain": [
       "<Figure size 640x480 with 3 Axes>"
      ]
     },
     "metadata": {},
     "output_type": "display_data"
    }
   ],
   "source": [
    "# sampling\n",
    "\n",
    "for i in range(3):    \n",
    "    rand_idx = np.random.randint(images.shape[0])\n",
    "    logits = hypothesis(np.expand_dims(images[rand_idx], axis=0), W, b)\n",
    "    true = np.argmax(target[rand_idx])\n",
    "    pred = np.argmax(tf.nn.softmax(logits))\n",
    "    \n",
    "    plt.subplot(130+i+1)\n",
    "    plt.imshow(images[rand_idx].reshape((8,8)), cmap='gray')\n",
    "    plt.title(f\"true: {true}, pred: {pred}\")\n",
    "plt.show()"
   ]
  }
 ],
 "metadata": {
  "kernelspec": {
   "display_name": "general",
   "language": "python",
   "name": "python3"
  },
  "language_info": {
   "codemirror_mode": {
    "name": "ipython",
    "version": 3
   },
   "file_extension": ".py",
   "mimetype": "text/x-python",
   "name": "python",
   "nbconvert_exporter": "python",
   "pygments_lexer": "ipython3",
   "version": "3.10.0"
  },
  "orig_nbformat": 4
 },
 "nbformat": 4,
 "nbformat_minor": 2
}
