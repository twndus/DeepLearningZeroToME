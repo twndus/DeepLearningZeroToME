{
 "cells": [
  {
   "attachments": {},
   "cell_type": "markdown",
   "metadata": {},
   "source": [
    "# CNN practice\n",
    "\n",
    "1. simple CNN\n",
    "2. deep CNN\n",
    "3. ?\n",
    "4. ?\n",
    "5. ensemble\n",
    "6. low memory"
   ]
  },
  {
   "cell_type": "code",
   "execution_count": 65,
   "metadata": {},
   "outputs": [],
   "source": [
    "import numpy as np\n",
    "\n",
    "import matplotlib.pyplot as plt\n",
    "import tensorflow as tf\n",
    "\n",
    "from mnist import MNIST"
   ]
  },
  {
   "attachments": {},
   "cell_type": "markdown",
   "metadata": {},
   "source": [
    "# Load Image"
   ]
  },
  {
   "cell_type": "code",
   "execution_count": 66,
   "metadata": {},
   "outputs": [
    {
     "data": {
      "text/plain": [
       "((60000, 28, 28, 1), (60000,), (10000, 28, 28, 1), (10000,))"
      ]
     },
     "execution_count": 66,
     "metadata": {},
     "output_type": "execute_result"
    }
   ],
   "source": [
    "mndata = MNIST('../data/mnist/')\n",
    "\n",
    "train_images, train_labels = mndata.load_training()\n",
    "test_images, test_labels = mndata.load_testing()\n",
    "\n",
    "train_images = np.array(train_images).reshape((-1, 28, 28, 1))\n",
    "train_labels = np.array(train_labels)\n",
    "test_images = np.array(test_images).reshape((-1, 28, 28, 1))\n",
    "test_labels = np.array(test_labels)\n",
    "\n",
    "train_images.shape, train_labels.shape, test_images.shape, test_labels.shape"
   ]
  },
  {
   "cell_type": "code",
   "execution_count": 67,
   "metadata": {},
   "outputs": [
    {
     "data": {
      "image/png": "[encoded data removed]",
      "text/plain": [
       "<Figure size 640x480 with 1 Axes>"
      ]
     },
     "metadata": {},
     "output_type": "display_data"
    }
   ],
   "source": [
    "idx = 0\n",
    "\n",
    "plt.title(train_labels[0])\n",
    "plt.imshow(train_images[0], cmap='gray')\n",
    "plt.show()"
   ]
  },
  {
   "cell_type": "code",
   "execution_count": 68,
   "metadata": {},
   "outputs": [
    {
     "data": {
      "text/plain": [
       "(TensorShape([60000, 10]), TensorShape([10000, 10]))"
      ]
     },
     "execution_count": 68,
     "metadata": {},
     "output_type": "execute_result"
    }
   ],
   "source": [
    "train_labels_1hot = tf.one_hot(train_labels, 10)\n",
    "test_labels_1hot = tf.one_hot(test_labels, 10)\n",
    "\n",
    "train_labels_1hot.shape, test_labels_1hot.shape"
   ]
  },
  {
   "attachments": {},
   "cell_type": "markdown",
   "metadata": {},
   "source": [
    "# Simple CNN\n",
    "\n",
    "5 layers (last FC-10)"
   ]
  },
  {
   "cell_type": "code",
   "execution_count": 88,
   "metadata": {},
   "outputs": [],
   "source": [
    "def conv_block(x, filter_nums, dropout_rate, name, weights=None):\n",
    "    if weights:\n",
    "        print(weights)\n",
    "        filters = weights\n",
    "    else:\n",
    "        filters = tf.Variable(tf.random.normal([3, 3, 1, filter_nums]))\n",
    "    conv_output = tf.nn.conv2d(x, filters, (1,1,1,1), 'SAME', name=name)\n",
    "    relu_output = tf.nn.relu(conv_output)\n",
    "    pool_output = tf.nn.max_pool2d(\n",
    "        relu_output, ksize=(1,2,2,1), strides=(1,2,2,1), padding='SAME')\n",
    "    block_output = tf.nn.dropout(pool_output, rate=dropout_rate)\n",
    "    return block_output, filters\n",
    "\n",
    "def fc_layer(x, units, weights=None):\n",
    "    if weights:\n",
    "        w, b = weights\n",
    "    else:\n",
    "        w = tf.Variable(tf.random.normal((x.shape[-1], units)))\n",
    "        b = tf.Variable(tf.random.normal((units, )))\n",
    "    fc_output = tf.nn.relu(tf.matmul(x, w)+b)\n",
    "    return fc_output, [w, b]\n",
    "\n",
    "def last_layer(x, classes, weights=None):\n",
    "    if weights:\n",
    "        w, b = weights\n",
    "    else:\n",
    "        w = tf.Variable(tf.random.normal((x.shape[-1], classes)))\n",
    "        b = tf.Variable(tf.random.normal((classes, )))\n",
    "    logits = tf.matmul(x, w)+b\n",
    "    return logits, [w, b]#tf.nn.softmax(logits)\n",
    "    \n",
    "\n",
    "def model(x, dropout_rate, weights=None):\n",
    "    if not weights:\n",
    "        # convolution blocks\n",
    "        l1_output, w1 = conv_block(x, 32, dropout_rate, 'conv1')\n",
    "        # print(\"l1 output shape: \", l1_output.shape)\n",
    "        l2_output, w2 = conv_block(l1_output, 64, dropout_rate, 'conv2')\n",
    "        # print(\"l2 output shape: \", l2_output.shape)\n",
    "        l3_output, w3 = conv_block(l2_output, 128, dropout_rate, 'conv3')\n",
    "        # print(\"l3 output shape: \", l3_output.shape)\n",
    "\n",
    "        # fc layers\n",
    "        flatten = tf.reshape(l3_output, (x.shape[0], -1))\n",
    "        # print(\"flatten output shape: \", flatten.shape)\n",
    "        l4_output, w4 = fc_layer(flatten, 4096)\n",
    "        # print(\"l4 output shape: \", l4_output.shape)\n",
    "        l5_output, w5 = fc_layer(l4_output, 4096)\n",
    "        # print(\"l5 output shape: \", l5_output.shape)\n",
    "        l6_output, w6 = last_layer(l5_output, 10)\n",
    "    else:\n",
    "        # convolution blocks\n",
    "        l1_output, w1 = conv_block(x, 32, dropout_rate, 'conv1', weights=weights[0])\n",
    "        # print(\"l1 output shape: \", l1_output.shape)\n",
    "        l2_output, w2 = conv_block(l1_output, 64, dropout_rate, 'conv2', weights=weights[1])\n",
    "        # print(\"l2 output shape: \", l2_output.shape)\n",
    "        l3_output, w3 = conv_block(l2_output, 128, dropout_rate, 'conv3', weights=weights[2])\n",
    "        # print(\"l3 output shape: \", l3_output.shape)\n",
    "\n",
    "        # fc layers\n",
    "        flatten = tf.reshape(l3_output, (x.shape[0], -1))\n",
    "        # print(\"flatten output shape: \", flatten.shape)\n",
    "        l4_output, w4 = fc_layer(flatten, 4096, weights=weights[3])\n",
    "        # print(\"l4 output shape: \", l4_output.shape)\n",
    "        l5_output, w5 = fc_layer(l4_output, 4096, weights=weights[4])\n",
    "        # print(\"l5 output shape: \", l5_output.shape)\n",
    "        l6_output, w6 = last_layer(l5_output, 10, weights=weights[5])\n",
    "\n",
    "    weights = [w1, w2, w3, w4, w5, w6]\n",
    "    return l6_output, weights\n",
    "    "
   ]
  },
  {
   "cell_type": "code",
   "execution_count": 87,
   "metadata": {},
   "outputs": [
    {
     "name": "stdout",
     "output_type": "stream",
     "text": [
      "None\n"
     ]
    }
   ],
   "source": [
    "output, weights = model(test_images, 0.01)"
   ]
  },
  {
   "cell_type": "code",
   "execution_count": 90,
   "metadata": {},
   "outputs": [],
   "source": [
    "learning_rate = 0.0001\n",
    "sgd = tf.keras.optimizers.legacy.SGD(learning_rate)"
   ]
  },
  {
   "cell_type": "code",
   "execution_count": 91,
   "metadata": {},
   "outputs": [
    {
     "ename": "InvalidArgumentError",
     "evalue": "{{function_node __wrapped__Conv2DBackpropInput_device_/job:localhost/replica:0/task:0/device:CPU:0}} Gradients for grouped convolutions are not supported on CPU. Please file a feature request if you run into this issue. Computed input depth 64 doesn't match filter input depth 1 [Op:Conv2DBackpropInput] name: ",
     "output_type": "error",
     "traceback": [
      "\u001b[0;31m---------------------------------------------------------------------------\u001b[0m",
      "\u001b[0;31mInvalidArgumentError\u001b[0m                      Traceback (most recent call last)",
      "Cell \u001b[0;32mIn[91], line 13\u001b[0m\n\u001b[1;32m     10\u001b[0m         pred, weights \u001b[39m=\u001b[39m model(train_images, \u001b[39m0.01\u001b[39m)\n\u001b[1;32m     11\u001b[0m     loss \u001b[39m=\u001b[39m tf\u001b[39m.\u001b[39mnn\u001b[39m.\u001b[39msoftmax_cross_entropy_with_logits(train_labels_1hot, pred)\n\u001b[0;32m---> 13\u001b[0m sgd\u001b[39m.\u001b[39;49mminimize(loss, var_list\u001b[39m=\u001b[39;49mweights, tape\u001b[39m=\u001b[39;49mtape)\n\u001b[1;32m     14\u001b[0m \u001b[39mprint\u001b[39m(\u001b[39mf\u001b[39m\u001b[39m\"\u001b[39m\u001b[39mepoch: \u001b[39m\u001b[39m{\u001b[39;00mi\u001b[39m}\u001b[39;00m\u001b[39m, loss: \u001b[39m\u001b[39m{\u001b[39;00mloss\u001b[39m}\u001b[39;00m\u001b[39m\"\u001b[39m)\n",
      "File \u001b[0;32m/opt/homebrew/anaconda3/envs/general/lib/python3.10/site-packages/keras/src/optimizers/legacy/optimizer_v2.py:598\u001b[0m, in \u001b[0;36mOptimizerV2.minimize\u001b[0;34m(self, loss, var_list, grad_loss, name, tape)\u001b[0m\n\u001b[1;32m    567\u001b[0m \u001b[39mdef\u001b[39;00m \u001b[39mminimize\u001b[39m(\u001b[39mself\u001b[39m, loss, var_list, grad_loss\u001b[39m=\u001b[39m\u001b[39mNone\u001b[39;00m, name\u001b[39m=\u001b[39m\u001b[39mNone\u001b[39;00m, tape\u001b[39m=\u001b[39m\u001b[39mNone\u001b[39;00m):\n\u001b[1;32m    568\u001b[0m \u001b[39m    \u001b[39m\u001b[39m\"\"\"Minimize `loss` by updating `var_list`.\u001b[39;00m\n\u001b[1;32m    569\u001b[0m \n\u001b[1;32m    570\u001b[0m \u001b[39m    This method simply computes gradient using `tf.GradientTape` and calls\u001b[39;00m\n\u001b[0;32m   (...)\u001b[0m\n\u001b[1;32m    596\u001b[0m \n\u001b[1;32m    597\u001b[0m \u001b[39m    \"\"\"\u001b[39;00m\n\u001b[0;32m--> 598\u001b[0m     grads_and_vars \u001b[39m=\u001b[39m \u001b[39mself\u001b[39;49m\u001b[39m.\u001b[39;49m_compute_gradients(\n\u001b[1;32m    599\u001b[0m         loss, var_list\u001b[39m=\u001b[39;49mvar_list, grad_loss\u001b[39m=\u001b[39;49mgrad_loss, tape\u001b[39m=\u001b[39;49mtape\n\u001b[1;32m    600\u001b[0m     )\n\u001b[1;32m    601\u001b[0m     \u001b[39mreturn\u001b[39;00m \u001b[39mself\u001b[39m\u001b[39m.\u001b[39mapply_gradients(grads_and_vars, name\u001b[39m=\u001b[39mname)\n",
      "File \u001b[0;32m/opt/homebrew/anaconda3/envs/general/lib/python3.10/site-packages/keras/src/optimizers/legacy/optimizer_v2.py:656\u001b[0m, in \u001b[0;36mOptimizerV2._compute_gradients\u001b[0;34m(self, loss, var_list, grad_loss, tape)\u001b[0m\n\u001b[1;32m    654\u001b[0m var_list \u001b[39m=\u001b[39m tf\u001b[39m.\u001b[39mnest\u001b[39m.\u001b[39mflatten(var_list)\n\u001b[1;32m    655\u001b[0m \u001b[39mwith\u001b[39;00m tf\u001b[39m.\u001b[39mname_scope(\u001b[39mself\u001b[39m\u001b[39m.\u001b[39m_name \u001b[39m+\u001b[39m \u001b[39m\"\u001b[39m\u001b[39m/gradients\u001b[39m\u001b[39m\"\u001b[39m):\n\u001b[0;32m--> 656\u001b[0m     grads_and_vars \u001b[39m=\u001b[39m \u001b[39mself\u001b[39;49m\u001b[39m.\u001b[39;49m_get_gradients(\n\u001b[1;32m    657\u001b[0m         tape, loss, var_list, grad_loss\n\u001b[1;32m    658\u001b[0m     )\n\u001b[1;32m    660\u001b[0m \u001b[39mself\u001b[39m\u001b[39m.\u001b[39m_assert_valid_dtypes(\n\u001b[1;32m    661\u001b[0m     [\n\u001b[1;32m    662\u001b[0m         v\n\u001b[0;32m   (...)\u001b[0m\n\u001b[1;32m    665\u001b[0m     ]\n\u001b[1;32m    666\u001b[0m )\n\u001b[1;32m    668\u001b[0m \u001b[39mreturn\u001b[39;00m grads_and_vars\n",
      "File \u001b[0;32m/opt/homebrew/anaconda3/envs/general/lib/python3.10/site-packages/keras/src/optimizers/legacy/optimizer_v2.py:532\u001b[0m, in \u001b[0;36mOptimizerV2._get_gradients\u001b[0;34m(self, tape, loss, var_list, grad_loss)\u001b[0m\n\u001b[1;32m    530\u001b[0m \u001b[39mdef\u001b[39;00m \u001b[39m_get_gradients\u001b[39m(\u001b[39mself\u001b[39m, tape, loss, var_list, grad_loss\u001b[39m=\u001b[39m\u001b[39mNone\u001b[39;00m):\n\u001b[1;32m    531\u001b[0m \u001b[39m    \u001b[39m\u001b[39m\"\"\"Called in `minimize` to compute gradients from loss.\"\"\"\u001b[39;00m\n\u001b[0;32m--> 532\u001b[0m     grads \u001b[39m=\u001b[39m tape\u001b[39m.\u001b[39;49mgradient(loss, var_list, grad_loss)\n\u001b[1;32m    533\u001b[0m     \u001b[39mreturn\u001b[39;00m \u001b[39mlist\u001b[39m(\u001b[39mzip\u001b[39m(grads, var_list))\n",
      "File \u001b[0;32m/opt/homebrew/anaconda3/envs/general/lib/python3.10/site-packages/tensorflow/python/eager/backprop.py:1063\u001b[0m, in \u001b[0;36mGradientTape.gradient\u001b[0;34m(self, target, sources, output_gradients, unconnected_gradients)\u001b[0m\n\u001b[1;32m   1057\u001b[0m   output_gradients \u001b[39m=\u001b[39m (\n\u001b[1;32m   1058\u001b[0m       composite_tensor_gradient\u001b[39m.\u001b[39mget_flat_tensors_for_gradients(\n\u001b[1;32m   1059\u001b[0m           output_gradients))\n\u001b[1;32m   1060\u001b[0m   output_gradients \u001b[39m=\u001b[39m [\u001b[39mNone\u001b[39;00m \u001b[39mif\u001b[39;00m x \u001b[39mis\u001b[39;00m \u001b[39mNone\u001b[39;00m \u001b[39melse\u001b[39;00m ops\u001b[39m.\u001b[39mconvert_to_tensor(x)\n\u001b[1;32m   1061\u001b[0m                       \u001b[39mfor\u001b[39;00m x \u001b[39min\u001b[39;00m output_gradients]\n\u001b[0;32m-> 1063\u001b[0m flat_grad \u001b[39m=\u001b[39m imperative_grad\u001b[39m.\u001b[39;49mimperative_grad(\n\u001b[1;32m   1064\u001b[0m     \u001b[39mself\u001b[39;49m\u001b[39m.\u001b[39;49m_tape,\n\u001b[1;32m   1065\u001b[0m     flat_targets,\n\u001b[1;32m   1066\u001b[0m     flat_sources,\n\u001b[1;32m   1067\u001b[0m     output_gradients\u001b[39m=\u001b[39;49moutput_gradients,\n\u001b[1;32m   1068\u001b[0m     sources_raw\u001b[39m=\u001b[39;49mflat_sources_raw,\n\u001b[1;32m   1069\u001b[0m     unconnected_gradients\u001b[39m=\u001b[39;49munconnected_gradients)\n\u001b[1;32m   1071\u001b[0m \u001b[39mif\u001b[39;00m \u001b[39mnot\u001b[39;00m \u001b[39mself\u001b[39m\u001b[39m.\u001b[39m_persistent:\n\u001b[1;32m   1072\u001b[0m   \u001b[39m# Keep track of watched variables before setting tape to None\u001b[39;00m\n\u001b[1;32m   1073\u001b[0m   \u001b[39mself\u001b[39m\u001b[39m.\u001b[39m_watched_variables \u001b[39m=\u001b[39m \u001b[39mself\u001b[39m\u001b[39m.\u001b[39m_tape\u001b[39m.\u001b[39mwatched_variables()\n",
      "File \u001b[0;32m/opt/homebrew/anaconda3/envs/general/lib/python3.10/site-packages/tensorflow/python/eager/imperative_grad.py:67\u001b[0m, in \u001b[0;36mimperative_grad\u001b[0;34m(tape, target, sources, output_gradients, sources_raw, unconnected_gradients)\u001b[0m\n\u001b[1;32m     63\u001b[0m \u001b[39mexcept\u001b[39;00m \u001b[39mValueError\u001b[39;00m:\n\u001b[1;32m     64\u001b[0m   \u001b[39mraise\u001b[39;00m \u001b[39mValueError\u001b[39;00m(\n\u001b[1;32m     65\u001b[0m       \u001b[39m\"\u001b[39m\u001b[39mUnknown value for unconnected_gradients: \u001b[39m\u001b[39m%r\u001b[39;00m\u001b[39m\"\u001b[39m \u001b[39m%\u001b[39m unconnected_gradients)\n\u001b[0;32m---> 67\u001b[0m \u001b[39mreturn\u001b[39;00m pywrap_tfe\u001b[39m.\u001b[39;49mTFE_Py_TapeGradient(\n\u001b[1;32m     68\u001b[0m     tape\u001b[39m.\u001b[39;49m_tape,  \u001b[39m# pylint: disable=protected-access\u001b[39;49;00m\n\u001b[1;32m     69\u001b[0m     target,\n\u001b[1;32m     70\u001b[0m     sources,\n\u001b[1;32m     71\u001b[0m     output_gradients,\n\u001b[1;32m     72\u001b[0m     sources_raw,\n\u001b[1;32m     73\u001b[0m     compat\u001b[39m.\u001b[39;49mas_str(unconnected_gradients\u001b[39m.\u001b[39;49mvalue))\n",
      "File \u001b[0;32m/opt/homebrew/anaconda3/envs/general/lib/python3.10/site-packages/tensorflow/python/eager/backprop.py:146\u001b[0m, in \u001b[0;36m_gradient_function\u001b[0;34m(op_name, attr_tuple, num_inputs, inputs, outputs, out_grads, skip_input_indices, forward_pass_name_scope)\u001b[0m\n\u001b[1;32m    144\u001b[0m     gradient_name_scope \u001b[39m+\u001b[39m\u001b[39m=\u001b[39m forward_pass_name_scope \u001b[39m+\u001b[39m \u001b[39m\"\u001b[39m\u001b[39m/\u001b[39m\u001b[39m\"\u001b[39m\n\u001b[1;32m    145\u001b[0m   \u001b[39mwith\u001b[39;00m ops\u001b[39m.\u001b[39mname_scope(gradient_name_scope):\n\u001b[0;32m--> 146\u001b[0m     \u001b[39mreturn\u001b[39;00m grad_fn(mock_op, \u001b[39m*\u001b[39;49mout_grads)\n\u001b[1;32m    147\u001b[0m \u001b[39melse\u001b[39;00m:\n\u001b[1;32m    148\u001b[0m   \u001b[39mreturn\u001b[39;00m grad_fn(mock_op, \u001b[39m*\u001b[39mout_grads)\n",
      "File \u001b[0;32m/opt/homebrew/anaconda3/envs/general/lib/python3.10/site-packages/tensorflow/python/ops/nn_grad.py:583\u001b[0m, in \u001b[0;36m_Conv2DGrad\u001b[0;34m(op, grad)\u001b[0m\n\u001b[1;32m    574\u001b[0m shape_0, shape_1 \u001b[39m=\u001b[39m array_ops\u001b[39m.\u001b[39mshape_n([op\u001b[39m.\u001b[39minputs[\u001b[39m0\u001b[39m], op\u001b[39m.\u001b[39minputs[\u001b[39m1\u001b[39m]])\n\u001b[1;32m    576\u001b[0m \u001b[39m# We call the gen_nn_ops backprop functions instead of nn_ops backprop\u001b[39;00m\n\u001b[1;32m    577\u001b[0m \u001b[39m# functions for performance reasons in Eager mode. gen_nn_ops functions take a\u001b[39;00m\n\u001b[1;32m    578\u001b[0m \u001b[39m# `explicit_paddings` parameter, but nn_ops functions do not. So if we were\u001b[39;00m\n\u001b[1;32m    579\u001b[0m \u001b[39m# to use the nn_ops functions, we would have to convert `padding` and\u001b[39;00m\n\u001b[1;32m    580\u001b[0m \u001b[39m# `explicit_paddings` into a single `padding` parameter, increasing overhead\u001b[39;00m\n\u001b[1;32m    581\u001b[0m \u001b[39m# in Eager mode.\u001b[39;00m\n\u001b[1;32m    582\u001b[0m \u001b[39mreturn\u001b[39;00m [\n\u001b[0;32m--> 583\u001b[0m     gen_nn_ops\u001b[39m.\u001b[39;49mconv2d_backprop_input(\n\u001b[1;32m    584\u001b[0m         shape_0,\n\u001b[1;32m    585\u001b[0m         op\u001b[39m.\u001b[39;49minputs[\u001b[39m1\u001b[39;49m],\n\u001b[1;32m    586\u001b[0m         grad,\n\u001b[1;32m    587\u001b[0m         dilations\u001b[39m=\u001b[39;49mdilations,\n\u001b[1;32m    588\u001b[0m         strides\u001b[39m=\u001b[39;49mstrides,\n\u001b[1;32m    589\u001b[0m         padding\u001b[39m=\u001b[39;49mpadding,\n\u001b[1;32m    590\u001b[0m         explicit_paddings\u001b[39m=\u001b[39;49mexplicit_paddings,\n\u001b[1;32m    591\u001b[0m         use_cudnn_on_gpu\u001b[39m=\u001b[39;49muse_cudnn_on_gpu,\n\u001b[1;32m    592\u001b[0m         data_format\u001b[39m=\u001b[39;49mdata_format),\n\u001b[1;32m    593\u001b[0m     gen_nn_ops\u001b[39m.\u001b[39mconv2d_backprop_filter(\n\u001b[1;32m    594\u001b[0m         op\u001b[39m.\u001b[39minputs[\u001b[39m0\u001b[39m],\n\u001b[1;32m    595\u001b[0m         shape_1,\n\u001b[1;32m    596\u001b[0m         grad,\n\u001b[1;32m    597\u001b[0m         dilations\u001b[39m=\u001b[39mdilations,\n\u001b[1;32m    598\u001b[0m         strides\u001b[39m=\u001b[39mstrides,\n\u001b[1;32m    599\u001b[0m         padding\u001b[39m=\u001b[39mpadding,\n\u001b[1;32m    600\u001b[0m         explicit_paddings\u001b[39m=\u001b[39mexplicit_paddings,\n\u001b[1;32m    601\u001b[0m         use_cudnn_on_gpu\u001b[39m=\u001b[39muse_cudnn_on_gpu,\n\u001b[1;32m    602\u001b[0m         data_format\u001b[39m=\u001b[39mdata_format)\n\u001b[1;32m    603\u001b[0m ]\n",
      "File \u001b[0;32m/opt/homebrew/anaconda3/envs/general/lib/python3.10/site-packages/tensorflow/python/ops/gen_nn_ops.py:1627\u001b[0m, in \u001b[0;36mconv2d_backprop_input\u001b[0;34m(input_sizes, filter, out_backprop, strides, padding, use_cudnn_on_gpu, explicit_paddings, data_format, dilations, name)\u001b[0m\n\u001b[1;32m   1625\u001b[0m   \u001b[39mreturn\u001b[39;00m _result\n\u001b[1;32m   1626\u001b[0m \u001b[39mexcept\u001b[39;00m _core\u001b[39m.\u001b[39m_NotOkStatusException \u001b[39mas\u001b[39;00m e:\n\u001b[0;32m-> 1627\u001b[0m   _ops\u001b[39m.\u001b[39;49mraise_from_not_ok_status(e, name)\n\u001b[1;32m   1628\u001b[0m \u001b[39mexcept\u001b[39;00m _core\u001b[39m.\u001b[39m_FallbackException:\n\u001b[1;32m   1629\u001b[0m   \u001b[39mpass\u001b[39;00m\n",
      "File \u001b[0;32m/opt/homebrew/anaconda3/envs/general/lib/python3.10/site-packages/tensorflow/python/framework/ops.py:6656\u001b[0m, in \u001b[0;36mraise_from_not_ok_status\u001b[0;34m(e, name)\u001b[0m\n\u001b[1;32m   6654\u001b[0m \u001b[39mdef\u001b[39;00m \u001b[39mraise_from_not_ok_status\u001b[39m(e, name):\n\u001b[1;32m   6655\u001b[0m   e\u001b[39m.\u001b[39mmessage \u001b[39m+\u001b[39m\u001b[39m=\u001b[39m (\u001b[39m\"\u001b[39m\u001b[39m name: \u001b[39m\u001b[39m\"\u001b[39m \u001b[39m+\u001b[39m \u001b[39mstr\u001b[39m(name \u001b[39mif\u001b[39;00m name \u001b[39mis\u001b[39;00m \u001b[39mnot\u001b[39;00m \u001b[39mNone\u001b[39;00m \u001b[39melse\u001b[39;00m \u001b[39m\"\u001b[39m\u001b[39m\"\u001b[39m))\n\u001b[0;32m-> 6656\u001b[0m   \u001b[39mraise\u001b[39;00m core\u001b[39m.\u001b[39m_status_to_exception(e) \u001b[39mfrom\u001b[39;00m \u001b[39mNone\u001b[39;00m\n",
      "\u001b[0;31mInvalidArgumentError\u001b[0m: {{function_node __wrapped__Conv2DBackpropInput_device_/job:localhost/replica:0/task:0/device:CPU:0}} Gradients for grouped convolutions are not supported on CPU. Please file a feature request if you run into this issue. Computed input depth 64 doesn't match filter input depth 1 [Op:Conv2DBackpropInput] name: "
     ]
    }
   ],
   "source": [
    "epochs = 5\n",
    "\n",
    "weights = ''\n",
    "for i in range(epochs):\n",
    "\n",
    "    with tf.GradientTape() as tape:\n",
    "        if len(weights):\n",
    "            pred, _ = model(train_images, 0.01, weights)\n",
    "        else:\n",
    "            pred, weights = model(train_images, 0.01)\n",
    "        loss = tf.nn.softmax_cross_entropy_with_logits(train_labels_1hot, pred)\n",
    "\n",
    "    sgd.minimize(loss, var_list=weights, tape=tape)\n",
    "    print(f\"epoch: {i}, loss: {loss}\")"
   ]
  },
  {
   "cell_type": "code",
   "execution_count": null,
   "metadata": {},
   "outputs": [],
   "source": []
  },
  {
   "cell_type": "code",
   "execution_count": null,
   "metadata": {},
   "outputs": [],
   "source": []
  },
  {
   "cell_type": "code",
   "execution_count": null,
   "metadata": {},
   "outputs": [],
   "source": []
  }
 ],
 "metadata": {
  "kernelspec": {
   "display_name": "general",
   "language": "python",
   "name": "python3"
  },
  "language_info": {
   "codemirror_mode": {
    "name": "ipython",
    "version": 3
   },
   "file_extension": ".py",
   "mimetype": "text/x-python",
   "name": "python",
   "nbconvert_exporter": "python",
   "pygments_lexer": "ipython3",
   "version": "3.10.0"
  },
  "orig_nbformat": 4
 },
 "nbformat": 4,
 "nbformat_minor": 2
}
