{
 "cells": [
  {
   "attachments": {},
   "cell_type": "markdown",
   "metadata": {},
   "source": [
    "# Minimize costs\n",
    "\n",
    "1. manually control weights and check costs\n",
    "2. implement gradient descent algorithm with derivative\n",
    "3. use tf.optimizer"
   ]
  },
  {
   "cell_type": "code",
   "execution_count": 1,
   "metadata": {},
   "outputs": [],
   "source": [
    "import numpy as np\n",
    "\n",
    "import matplotlib.pyplot as plt\n",
    "import tensorflow as tf"
   ]
  },
  {
   "attachments": {},
   "cell_type": "markdown",
   "metadata": {},
   "source": [
    "## 1. manually control weights and check costs"
   ]
  },
  {
   "cell_type": "code",
   "execution_count": 2,
   "metadata": {},
   "outputs": [],
   "source": [
    "# train data\n",
    "x = [1,2,3,4,5]\n",
    "y = [1,2,3,4,5]\n"
   ]
  },
  {
   "cell_type": "code",
   "execution_count": 3,
   "metadata": {},
   "outputs": [],
   "source": [
    "# # def variables\n",
    "# W = tf.Variable(initial_value=(10,), shape=(1,), dtype='float32')\n",
    "\n",
    "def cost(W):\n",
    "    hypothesis = tf.multiply(W, x)\n",
    "    a = tf.square(hypothesis-y)\n",
    "    loss = tf.reduce_mean(a)\n",
    "\n",
    "# get cost\n",
    "@tf.function\n",
    "def cost(W):\n",
    "    hypothesis = tf.multiply(W, x)\n",
    "    loss = tf.reduce_mean(tf.square(hypothesis-y))\n",
    "    return loss"
   ]
  },
  {
   "cell_type": "code",
   "execution_count": 4,
   "metadata": {},
   "outputs": [
    {
     "name": "stdout",
     "output_type": "stream",
     "text": [
      "WARNING:tensorflow:5 out of the last 5 calls to <function cost at 0x28b63bac0> triggered tf.function retracing. Tracing is expensive and the excessive number of tracings could be due to (1) creating @tf.function repeatedly in a loop, (2) passing tensors with different shapes, (3) passing Python objects instead of tensors. For (1), please define your @tf.function outside of the loop. For (2), @tf.function has reduce_retracing=True option that can avoid unnecessary retracing. For (3), please refer to https://www.tensorflow.org/guide/function#controlling_retracing and https://www.tensorflow.org/api_docs/python/tf/function for  more details.\n",
      "WARNING:tensorflow:6 out of the last 6 calls to <function cost at 0x28b63bac0> triggered tf.function retracing. Tracing is expensive and the excessive number of tracings could be due to (1) creating @tf.function repeatedly in a loop, (2) passing tensors with different shapes, (3) passing Python objects instead of tensors. For (1), please define your @tf.function outside of the loop. For (2), @tf.function has reduce_retracing=True option that can avoid unnecessary retracing. For (3), please refer to https://www.tensorflow.org/guide/function#controlling_retracing and https://www.tensorflow.org/api_docs/python/tf/function for  more details.\n"
     ]
    },
    {
     "data": {
      "image/png": "[encoded data removed]",
      "text/plain": [
       "<Figure size 640x480 with 1 Axes>"
      ]
     },
     "metadata": {},
     "output_type": "display_data"
    }
   ],
   "source": [
    "loss_list = []\n",
    "for i in range(-30, 50):\n",
    "    i *= 0.1\n",
    "    loss_list.append(cost(i))\n",
    "\n",
    "plt.scatter(x=np.array(range(-30, 50))*0.1, y=loss_list)\n",
    "plt.show()"
   ]
  },
  {
   "attachments": {},
   "cell_type": "markdown",
   "metadata": {},
   "source": [
    "## 2. implement gradient descent algorithm with derivative"
   ]
  },
  {
   "cell_type": "code",
   "execution_count": 5,
   "metadata": {},
   "outputs": [],
   "source": [
    "# def variable\n",
    "W = tf.Variable(initial_value=(10,), shape=(1,), dtype='float32')\n",
    "learning_rate = 0.01\n",
    "\n",
    "# get cost\n",
    "@tf.function\n",
    "def cost(W):\n",
    "    hypothesis = tf.multiply(W, x)\n",
    "    loss = tf.reduce_mean(tf.square(hypothesis-y))\n",
    "    return loss\n"
   ]
  },
  {
   "cell_type": "code",
   "execution_count": 6,
   "metadata": {},
   "outputs": [
    {
     "name": "stdout",
     "output_type": "stream",
     "text": [
      "tf.Tensor([9.01], shape=(1,), dtype=float32)\n",
      "tf.Tensor([8.128901], shape=(1,), dtype=float32)\n",
      "tf.Tensor([7.344722], shape=(1,), dtype=float32)\n",
      "tf.Tensor([6.6468024], shape=(1,), dtype=float32)\n",
      "tf.Tensor([6.0256543], shape=(1,), dtype=float32)\n",
      "tf.Tensor([5.472832], shape=(1,), dtype=float32)\n",
      "tf.Tensor([4.9808207], shape=(1,), dtype=float32)\n",
      "tf.Tensor([4.5429306], shape=(1,), dtype=float32)\n",
      "tf.Tensor([4.1532083], shape=(1,), dtype=float32)\n",
      "tf.Tensor([3.8063555], shape=(1,), dtype=float32)\n",
      "tf.Tensor([3.4976563], shape=(1,), dtype=float32)\n",
      "tf.Tensor([3.2229142], shape=(1,), dtype=float32)\n",
      "tf.Tensor([2.9783936], shape=(1,), dtype=float32)\n",
      "tf.Tensor([2.7607703], shape=(1,), dtype=float32)\n",
      "tf.Tensor([2.5670855], shape=(1,), dtype=float32)\n",
      "tf.Tensor([2.394706], shape=(1,), dtype=float32)\n",
      "tf.Tensor([2.2412884], shape=(1,), dtype=float32)\n",
      "tf.Tensor([2.1047468], shape=(1,), dtype=float32)\n",
      "tf.Tensor([1.9832246], shape=(1,), dtype=float32)\n",
      "tf.Tensor([1.87507], shape=(1,), dtype=float32)\n",
      "tf.Tensor([1.7788123], shape=(1,), dtype=float32)\n",
      "tf.Tensor([1.6931429], shape=(1,), dtype=float32)\n",
      "tf.Tensor([1.6168972], shape=(1,), dtype=float32)\n",
      "tf.Tensor([1.5490385], shape=(1,), dtype=float32)\n",
      "tf.Tensor([1.4886442], shape=(1,), dtype=float32)\n",
      "tf.Tensor([1.4348934], shape=(1,), dtype=float32)\n",
      "tf.Tensor([1.3870552], shape=(1,), dtype=float32)\n",
      "tf.Tensor([1.3444791], shape=(1,), dtype=float32)\n",
      "tf.Tensor([1.3065864], shape=(1,), dtype=float32)\n",
      "tf.Tensor([1.2728618], shape=(1,), dtype=float32)\n",
      "tf.Tensor([1.2428471], shape=(1,), dtype=float32)\n",
      "tf.Tensor([1.216134], shape=(1,), dtype=float32)\n",
      "tf.Tensor([1.1923592], shape=(1,), dtype=float32)\n",
      "tf.Tensor([1.1711997], shape=(1,), dtype=float32)\n",
      "tf.Tensor([1.1523677], shape=(1,), dtype=float32)\n",
      "tf.Tensor([1.1356072], shape=(1,), dtype=float32)\n",
      "tf.Tensor([1.1206905], shape=(1,), dtype=float32)\n",
      "tf.Tensor([1.1074145], shape=(1,), dtype=float32)\n",
      "tf.Tensor([1.0955989], shape=(1,), dtype=float32)\n",
      "tf.Tensor([1.085083], shape=(1,), dtype=float32)\n",
      "tf.Tensor([1.0757239], shape=(1,), dtype=float32)\n",
      "tf.Tensor([1.0673943], shape=(1,), dtype=float32)\n",
      "tf.Tensor([1.0599809], shape=(1,), dtype=float32)\n",
      "tf.Tensor([1.053383], shape=(1,), dtype=float32)\n",
      "tf.Tensor([1.0475109], shape=(1,), dtype=float32)\n",
      "tf.Tensor([1.0422846], shape=(1,), dtype=float32)\n",
      "tf.Tensor([1.0376333], shape=(1,), dtype=float32)\n",
      "tf.Tensor([1.0334936], shape=(1,), dtype=float32)\n",
      "tf.Tensor([1.0298094], shape=(1,), dtype=float32)\n",
      "tf.Tensor([1.0265304], shape=(1,), dtype=float32)\n",
      "tf.Tensor([1.023612], shape=(1,), dtype=float32)\n",
      "tf.Tensor([1.0210147], shape=(1,), dtype=float32)\n",
      "tf.Tensor([1.0187031], shape=(1,), dtype=float32)\n",
      "tf.Tensor([1.0166458], shape=(1,), dtype=float32)\n",
      "tf.Tensor([1.0148147], shape=(1,), dtype=float32)\n",
      "tf.Tensor([1.0131851], shape=(1,), dtype=float32)\n",
      "tf.Tensor([1.0117347], shape=(1,), dtype=float32)\n",
      "tf.Tensor([1.0104439], shape=(1,), dtype=float32)\n",
      "tf.Tensor([1.0092951], shape=(1,), dtype=float32)\n",
      "tf.Tensor([1.0082726], shape=(1,), dtype=float32)\n",
      "tf.Tensor([1.0073626], shape=(1,), dtype=float32)\n",
      "tf.Tensor([1.0065527], shape=(1,), dtype=float32)\n",
      "tf.Tensor([1.005832], shape=(1,), dtype=float32)\n",
      "tf.Tensor([1.0051905], shape=(1,), dtype=float32)\n",
      "tf.Tensor([1.0046195], shape=(1,), dtype=float32)\n",
      "tf.Tensor([1.0041113], shape=(1,), dtype=float32)\n",
      "tf.Tensor([1.003659], shape=(1,), dtype=float32)\n",
      "tf.Tensor([1.0032566], shape=(1,), dtype=float32)\n",
      "tf.Tensor([1.0028983], shape=(1,), dtype=float32)\n",
      "tf.Tensor([1.0025796], shape=(1,), dtype=float32)\n",
      "tf.Tensor([1.0022959], shape=(1,), dtype=float32)\n",
      "tf.Tensor([1.0020434], shape=(1,), dtype=float32)\n",
      "tf.Tensor([1.0018185], shape=(1,), dtype=float32)\n",
      "tf.Tensor([1.0016185], shape=(1,), dtype=float32)\n",
      "tf.Tensor([1.0014405], shape=(1,), dtype=float32)\n",
      "tf.Tensor([1.0012821], shape=(1,), dtype=float32)\n",
      "tf.Tensor([1.0011411], shape=(1,), dtype=float32)\n",
      "tf.Tensor([1.0010155], shape=(1,), dtype=float32)\n",
      "tf.Tensor([1.0009038], shape=(1,), dtype=float32)\n",
      "tf.Tensor([1.0008044], shape=(1,), dtype=float32)\n",
      "tf.Tensor([1.000716], shape=(1,), dtype=float32)\n",
      "tf.Tensor([1.0006372], shape=(1,), dtype=float32)\n",
      "tf.Tensor([1.0005671], shape=(1,), dtype=float32)\n",
      "tf.Tensor([1.0005047], shape=(1,), dtype=float32)\n",
      "tf.Tensor([1.0004492], shape=(1,), dtype=float32)\n",
      "tf.Tensor([1.0003998], shape=(1,), dtype=float32)\n",
      "tf.Tensor([1.0003558], shape=(1,), dtype=float32)\n",
      "tf.Tensor([1.0003167], shape=(1,), dtype=float32)\n",
      "tf.Tensor([1.0002819], shape=(1,), dtype=float32)\n",
      "tf.Tensor([1.0002509], shape=(1,), dtype=float32)\n",
      "tf.Tensor([1.0002233], shape=(1,), dtype=float32)\n",
      "tf.Tensor([1.0001987], shape=(1,), dtype=float32)\n",
      "tf.Tensor([1.0001769], shape=(1,), dtype=float32)\n",
      "tf.Tensor([1.0001575], shape=(1,), dtype=float32)\n",
      "tf.Tensor([1.0001402], shape=(1,), dtype=float32)\n",
      "tf.Tensor([1.0001248], shape=(1,), dtype=float32)\n",
      "tf.Tensor([1.0001111], shape=(1,), dtype=float32)\n",
      "tf.Tensor([1.0000988], shape=(1,), dtype=float32)\n",
      "tf.Tensor([1.000088], shape=(1,), dtype=float32)\n",
      "tf.Tensor([1.0000783], shape=(1,), dtype=float32)\n"
     ]
    }
   ],
   "source": [
    "loss_list = []\n",
    "\n",
    "for i in range(100):\n",
    "    hypothesis = tf.multiply(W, x)\n",
    "    loss = cost(W)\n",
    "    W = W - learning_rate*tf.reduce_mean((hypothesis-y)*x)\n",
    "    print(W)\n",
    "    loss_list.append([W.numpy()[0], loss.numpy()])\n",
    "\n",
    "loss_array = np.array(loss_list)"
   ]
  },
  {
   "cell_type": "code",
   "execution_count": 8,
   "metadata": {},
   "outputs": [
    {
     "data": {
      "image/png": "[encoded data removed]",
      "text/plain": [
       "<Figure size 640x480 with 1 Axes>"
      ]
     },
     "metadata": {},
     "output_type": "display_data"
    }
   ],
   "source": [
    "plt.scatter(x=range(100), y=loss_array[:, 1], label='cost')\n",
    "plt.show()"
   ]
  },
  {
   "attachments": {},
   "cell_type": "markdown",
   "metadata": {},
   "source": [
    "## 3. use tf.optimizer"
   ]
  },
  {
   "cell_type": "code",
   "execution_count": 26,
   "metadata": {},
   "outputs": [],
   "source": [
    "# def variable\n",
    "W = tf.Variable(initial_value=(10,), shape=(1,), dtype='float32')\n",
    "learning_rate = 0.01\n",
    "\n",
    "# get cost\n",
    "@tf.function\n",
    "def cost():\n",
    "    hypothesis = tf.multiply(W, x)\n",
    "    loss = tf.reduce_mean(tf.square(hypothesis-y))\n",
    "    return loss\n",
    "\n",
    "sgd = tf.keras.optimizers.legacy.SGD(learning_rate=learning_rate)"
   ]
  }
 ],
 "metadata": {
  "kernelspec": {
   "display_name": "general",
   "language": "python",
   "name": "python3"
  },
  "language_info": {
   "codemirror_mode": {
    "name": "ipython",
    "version": 3
   },
   "file_extension": ".py",
   "mimetype": "text/x-python",
   "name": "python",
   "nbconvert_exporter": "python",
   "pygments_lexer": "ipython3",
   "version": "3.10.0"
  },
  "orig_nbformat": 4
 },
 "nbformat": 4,
 "nbformat_minor": 2
}
